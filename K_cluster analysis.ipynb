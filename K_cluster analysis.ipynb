{
 "cells": [
  {
   "cell_type": "markdown",
   "metadata": {
    "id": "o1WOKO5ulVxy"
   },
   "source": [
    "# Performing cluster analysis on the provided Pharmaceutical Data<a class=\"anchor\" id =\"steps\"></a>\n",
    "# steps\n",
    "[Read and preprocess the data](#step1)<br>\n",
    "[Perform K-means cluster analysis](#step2)<br>\n",
    "[Interpret and visualize the clusters](#step3)<br>\n",
    "\n",
    "\n",
    "\n",
    "\n",
    "\n"
   ]
  },
  {
   "cell_type": "markdown",
   "metadata": {},
   "source": [
    "### Before we perform cluster analysis, we need to understand the purpose to create clusters on this dataset.\n",
    "\n",
    "# Step 1: Read and preprocess the data<a class=\"anchor\" id=\"step1\"></a>\n",
    "\n",
    "[go_back_up](#steps)\n",
    "\n"
   ]
  },
  {
   "cell_type": "code",
   "execution_count": 7,
   "metadata": {
    "colab": {
     "base_uri": "https://localhost:8080/",
     "height": 292
    },
    "id": "l_XZeZY9lGyg",
    "outputId": "c7c72c6f-b26c-4117-92c3-a4ddca7518b0"
   },
   "outputs": [
    {
     "data": {
      "text/html": [
       "<div>\n",
       "<style scoped>\n",
       "    .dataframe tbody tr th:only-of-type {\n",
       "        vertical-align: middle;\n",
       "    }\n",
       "\n",
       "    .dataframe tbody tr th {\n",
       "        vertical-align: top;\n",
       "    }\n",
       "\n",
       "    .dataframe thead th {\n",
       "        text-align: right;\n",
       "    }\n",
       "</style>\n",
       "<table border=\"1\" class=\"dataframe\">\n",
       "  <thead>\n",
       "    <tr style=\"text-align: right;\">\n",
       "      <th></th>\n",
       "      <th>Symbol</th>\n",
       "      <th>Name</th>\n",
       "      <th>Market_Cap</th>\n",
       "      <th>Beta</th>\n",
       "      <th>PE_Ratio</th>\n",
       "      <th>ROE</th>\n",
       "      <th>ROA</th>\n",
       "      <th>Asset_Turnover</th>\n",
       "      <th>Leverage</th>\n",
       "      <th>Rev_Growth</th>\n",
       "      <th>Net_Profit_Margin</th>\n",
       "      <th>Median_Recommendation</th>\n",
       "      <th>Location</th>\n",
       "      <th>Exchange</th>\n",
       "    </tr>\n",
       "  </thead>\n",
       "  <tbody>\n",
       "    <tr>\n",
       "      <th>0</th>\n",
       "      <td>ABT</td>\n",
       "      <td>Abbott Laboratories</td>\n",
       "      <td>68.44</td>\n",
       "      <td>0.32</td>\n",
       "      <td>24.7</td>\n",
       "      <td>26.4</td>\n",
       "      <td>11.8</td>\n",
       "      <td>0.7</td>\n",
       "      <td>0.42</td>\n",
       "      <td>7.54</td>\n",
       "      <td>16.1</td>\n",
       "      <td>Moderate Buy</td>\n",
       "      <td>US</td>\n",
       "      <td>NYSE</td>\n",
       "    </tr>\n",
       "    <tr>\n",
       "      <th>1</th>\n",
       "      <td>AGN</td>\n",
       "      <td>Allergan, Inc.</td>\n",
       "      <td>7.58</td>\n",
       "      <td>0.41</td>\n",
       "      <td>82.5</td>\n",
       "      <td>12.9</td>\n",
       "      <td>5.5</td>\n",
       "      <td>0.9</td>\n",
       "      <td>0.60</td>\n",
       "      <td>9.16</td>\n",
       "      <td>5.5</td>\n",
       "      <td>Moderate Buy</td>\n",
       "      <td>CANADA</td>\n",
       "      <td>NYSE</td>\n",
       "    </tr>\n",
       "    <tr>\n",
       "      <th>2</th>\n",
       "      <td>AHM</td>\n",
       "      <td>Amersham plc</td>\n",
       "      <td>6.30</td>\n",
       "      <td>0.46</td>\n",
       "      <td>20.7</td>\n",
       "      <td>14.9</td>\n",
       "      <td>7.8</td>\n",
       "      <td>0.9</td>\n",
       "      <td>0.27</td>\n",
       "      <td>7.05</td>\n",
       "      <td>11.2</td>\n",
       "      <td>Strong Buy</td>\n",
       "      <td>UK</td>\n",
       "      <td>NYSE</td>\n",
       "    </tr>\n",
       "    <tr>\n",
       "      <th>3</th>\n",
       "      <td>AZN</td>\n",
       "      <td>AstraZeneca PLC</td>\n",
       "      <td>67.63</td>\n",
       "      <td>0.52</td>\n",
       "      <td>21.5</td>\n",
       "      <td>27.4</td>\n",
       "      <td>15.4</td>\n",
       "      <td>0.9</td>\n",
       "      <td>0.00</td>\n",
       "      <td>15.00</td>\n",
       "      <td>18.0</td>\n",
       "      <td>Moderate Sell</td>\n",
       "      <td>UK</td>\n",
       "      <td>NYSE</td>\n",
       "    </tr>\n",
       "    <tr>\n",
       "      <th>4</th>\n",
       "      <td>AVE</td>\n",
       "      <td>Aventis</td>\n",
       "      <td>47.16</td>\n",
       "      <td>0.32</td>\n",
       "      <td>20.1</td>\n",
       "      <td>21.8</td>\n",
       "      <td>7.5</td>\n",
       "      <td>0.6</td>\n",
       "      <td>0.34</td>\n",
       "      <td>26.81</td>\n",
       "      <td>12.9</td>\n",
       "      <td>Moderate Buy</td>\n",
       "      <td>FRANCE</td>\n",
       "      <td>NYSE</td>\n",
       "    </tr>\n",
       "  </tbody>\n",
       "</table>\n",
       "</div>"
      ],
      "text/plain": [
       "  Symbol                 Name  Market_Cap  Beta  PE_Ratio   ROE   ROA  \\\n",
       "0    ABT  Abbott Laboratories       68.44  0.32      24.7  26.4  11.8   \n",
       "1    AGN       Allergan, Inc.        7.58  0.41      82.5  12.9   5.5   \n",
       "2    AHM         Amersham plc        6.30  0.46      20.7  14.9   7.8   \n",
       "3    AZN      AstraZeneca PLC       67.63  0.52      21.5  27.4  15.4   \n",
       "4    AVE              Aventis       47.16  0.32      20.1  21.8   7.5   \n",
       "\n",
       "   Asset_Turnover  Leverage  Rev_Growth  Net_Profit_Margin  \\\n",
       "0             0.7      0.42        7.54               16.1   \n",
       "1             0.9      0.60        9.16                5.5   \n",
       "2             0.9      0.27        7.05               11.2   \n",
       "3             0.9      0.00       15.00               18.0   \n",
       "4             0.6      0.34       26.81               12.9   \n",
       "\n",
       "  Median_Recommendation Location Exchange  \n",
       "0          Moderate Buy       US     NYSE  \n",
       "1          Moderate Buy   CANADA     NYSE  \n",
       "2            Strong Buy       UK     NYSE  \n",
       "3         Moderate Sell       UK     NYSE  \n",
       "4          Moderate Buy   FRANCE     NYSE  "
      ]
     },
     "execution_count": 7,
     "metadata": {},
     "output_type": "execute_result"
    }
   ],
   "source": [
    "import pandas as pd\n",
    "pharmacy = pd.read_csv('Pharmaceuticals-M02.csv')\n",
    "pharmacy.head()"
   ]
  },
  {
   "cell_type": "code",
   "execution_count": 17,
   "metadata": {},
   "outputs": [
    {
     "data": {
      "text/plain": [
       "(21, 14)"
      ]
     },
     "execution_count": 17,
     "metadata": {},
     "output_type": "execute_result"
    }
   ],
   "source": [
    "pharmacy.shape"
   ]
  },
  {
   "cell_type": "code",
   "execution_count": 13,
   "metadata": {},
   "outputs": [
    {
     "data": {
      "text/plain": [
       "Name\n",
       "Abbott Laboratories                   1\n",
       "IVAX Corporation                      1\n",
       "Watson Pharmaceuticals, Inc.          1\n",
       "Schering-Plough Corporation           1\n",
       "Pharmacia Corporation                 1\n",
       "Pfizer Inc                            1\n",
       "Novartis AG                           1\n",
       "Merck & Co., Inc.                     1\n",
       "Medicis Pharmaceutical Corporation    1\n",
       "Johnson & Johnson                     1\n",
       "GlaxoSmithKline plc                   1\n",
       "Allergan, Inc.                        1\n",
       "Eli Lilly and Company                 1\n",
       "Elan Corporation, plc                 1\n",
       "Chattem, Inc                          1\n",
       "Bristol-Myers Squibb Company          1\n",
       "Bayer AG                              1\n",
       "Aventis                               1\n",
       "AstraZeneca PLC                       1\n",
       "Amersham plc                          1\n",
       "Wyeth                                 1\n",
       "Name: count, dtype: int64"
      ]
     },
     "execution_count": 13,
     "metadata": {},
     "output_type": "execute_result"
    }
   ],
   "source": [
    "pharmacy['Name'].value_counts()"
   ]
  },
  {
   "cell_type": "code",
   "execution_count": 9,
   "metadata": {},
   "outputs": [
    {
     "name": "stdout",
     "output_type": "stream",
     "text": [
      "<class 'pandas.core.frame.DataFrame'>\n",
      "RangeIndex: 21 entries, 0 to 20\n",
      "Data columns (total 14 columns):\n",
      " #   Column                 Non-Null Count  Dtype  \n",
      "---  ------                 --------------  -----  \n",
      " 0   Symbol                 21 non-null     object \n",
      " 1   Name                   21 non-null     object \n",
      " 2   Market_Cap             21 non-null     float64\n",
      " 3   Beta                   21 non-null     float64\n",
      " 4   PE_Ratio               21 non-null     float64\n",
      " 5   ROE                    21 non-null     float64\n",
      " 6   ROA                    21 non-null     float64\n",
      " 7   Asset_Turnover         21 non-null     float64\n",
      " 8   Leverage               21 non-null     float64\n",
      " 9   Rev_Growth             21 non-null     float64\n",
      " 10  Net_Profit_Margin      21 non-null     float64\n",
      " 11  Median_Recommendation  21 non-null     object \n",
      " 12  Location               21 non-null     object \n",
      " 13  Exchange               21 non-null     object \n",
      "dtypes: float64(9), object(5)\n",
      "memory usage: 2.4+ KB\n"
     ]
    }
   ],
   "source": [
    "pharmacy.info()"
   ]
  },
  {
   "cell_type": "code",
   "execution_count": 7,
   "metadata": {
    "colab": {
     "base_uri": "https://localhost:8080/"
    },
    "id": "7V_dKWJxxTc5",
    "outputId": "9af6cc15-d47f-442f-9b59-86c6bb5ee50d"
   },
   "outputs": [
    {
     "data": {
      "text/html": [
       "<div>\n",
       "<style scoped>\n",
       "    .dataframe tbody tr th:only-of-type {\n",
       "        vertical-align: middle;\n",
       "    }\n",
       "\n",
       "    .dataframe tbody tr th {\n",
       "        vertical-align: top;\n",
       "    }\n",
       "\n",
       "    .dataframe thead th {\n",
       "        text-align: right;\n",
       "    }\n",
       "</style>\n",
       "<table border=\"1\" class=\"dataframe\">\n",
       "  <thead>\n",
       "    <tr style=\"text-align: right;\">\n",
       "      <th></th>\n",
       "      <th>Market_Cap</th>\n",
       "      <th>Beta</th>\n",
       "      <th>PE_Ratio</th>\n",
       "      <th>ROE</th>\n",
       "      <th>ROA</th>\n",
       "      <th>Asset_Turnover</th>\n",
       "      <th>Leverage</th>\n",
       "      <th>Rev_Growth</th>\n",
       "      <th>Net_Profit_Margin</th>\n",
       "    </tr>\n",
       "  </thead>\n",
       "  <tbody>\n",
       "    <tr>\n",
       "      <th>0</th>\n",
       "      <td>68.44</td>\n",
       "      <td>0.32</td>\n",
       "      <td>24.7</td>\n",
       "      <td>26.4</td>\n",
       "      <td>11.8</td>\n",
       "      <td>0.7</td>\n",
       "      <td>0.42</td>\n",
       "      <td>7.54</td>\n",
       "      <td>16.1</td>\n",
       "    </tr>\n",
       "    <tr>\n",
       "      <th>1</th>\n",
       "      <td>7.58</td>\n",
       "      <td>0.41</td>\n",
       "      <td>82.5</td>\n",
       "      <td>12.9</td>\n",
       "      <td>5.5</td>\n",
       "      <td>0.9</td>\n",
       "      <td>0.60</td>\n",
       "      <td>9.16</td>\n",
       "      <td>5.5</td>\n",
       "    </tr>\n",
       "    <tr>\n",
       "      <th>2</th>\n",
       "      <td>6.30</td>\n",
       "      <td>0.46</td>\n",
       "      <td>20.7</td>\n",
       "      <td>14.9</td>\n",
       "      <td>7.8</td>\n",
       "      <td>0.9</td>\n",
       "      <td>0.27</td>\n",
       "      <td>7.05</td>\n",
       "      <td>11.2</td>\n",
       "    </tr>\n",
       "    <tr>\n",
       "      <th>3</th>\n",
       "      <td>67.63</td>\n",
       "      <td>0.52</td>\n",
       "      <td>21.5</td>\n",
       "      <td>27.4</td>\n",
       "      <td>15.4</td>\n",
       "      <td>0.9</td>\n",
       "      <td>0.00</td>\n",
       "      <td>15.00</td>\n",
       "      <td>18.0</td>\n",
       "    </tr>\n",
       "    <tr>\n",
       "      <th>4</th>\n",
       "      <td>47.16</td>\n",
       "      <td>0.32</td>\n",
       "      <td>20.1</td>\n",
       "      <td>21.8</td>\n",
       "      <td>7.5</td>\n",
       "      <td>0.6</td>\n",
       "      <td>0.34</td>\n",
       "      <td>26.81</td>\n",
       "      <td>12.9</td>\n",
       "    </tr>\n",
       "    <tr>\n",
       "      <th>5</th>\n",
       "      <td>16.90</td>\n",
       "      <td>1.11</td>\n",
       "      <td>27.9</td>\n",
       "      <td>3.9</td>\n",
       "      <td>1.4</td>\n",
       "      <td>0.6</td>\n",
       "      <td>0.00</td>\n",
       "      <td>-3.17</td>\n",
       "      <td>2.6</td>\n",
       "    </tr>\n",
       "    <tr>\n",
       "      <th>6</th>\n",
       "      <td>51.33</td>\n",
       "      <td>0.50</td>\n",
       "      <td>13.9</td>\n",
       "      <td>34.8</td>\n",
       "      <td>15.1</td>\n",
       "      <td>0.9</td>\n",
       "      <td>0.57</td>\n",
       "      <td>2.70</td>\n",
       "      <td>20.6</td>\n",
       "    </tr>\n",
       "    <tr>\n",
       "      <th>7</th>\n",
       "      <td>0.41</td>\n",
       "      <td>0.85</td>\n",
       "      <td>26.0</td>\n",
       "      <td>24.1</td>\n",
       "      <td>4.3</td>\n",
       "      <td>0.6</td>\n",
       "      <td>3.51</td>\n",
       "      <td>6.38</td>\n",
       "      <td>7.5</td>\n",
       "    </tr>\n",
       "    <tr>\n",
       "      <th>8</th>\n",
       "      <td>0.78</td>\n",
       "      <td>1.08</td>\n",
       "      <td>3.6</td>\n",
       "      <td>15.1</td>\n",
       "      <td>5.1</td>\n",
       "      <td>0.3</td>\n",
       "      <td>1.07</td>\n",
       "      <td>34.21</td>\n",
       "      <td>13.3</td>\n",
       "    </tr>\n",
       "    <tr>\n",
       "      <th>9</th>\n",
       "      <td>73.84</td>\n",
       "      <td>0.18</td>\n",
       "      <td>27.9</td>\n",
       "      <td>31.0</td>\n",
       "      <td>13.5</td>\n",
       "      <td>0.6</td>\n",
       "      <td>0.53</td>\n",
       "      <td>6.21</td>\n",
       "      <td>23.4</td>\n",
       "    </tr>\n",
       "    <tr>\n",
       "      <th>10</th>\n",
       "      <td>122.11</td>\n",
       "      <td>0.35</td>\n",
       "      <td>18.0</td>\n",
       "      <td>62.9</td>\n",
       "      <td>20.3</td>\n",
       "      <td>1.0</td>\n",
       "      <td>0.34</td>\n",
       "      <td>21.87</td>\n",
       "      <td>21.1</td>\n",
       "    </tr>\n",
       "    <tr>\n",
       "      <th>11</th>\n",
       "      <td>2.60</td>\n",
       "      <td>0.65</td>\n",
       "      <td>19.9</td>\n",
       "      <td>21.4</td>\n",
       "      <td>6.8</td>\n",
       "      <td>0.6</td>\n",
       "      <td>1.45</td>\n",
       "      <td>13.99</td>\n",
       "      <td>11.0</td>\n",
       "    </tr>\n",
       "    <tr>\n",
       "      <th>12</th>\n",
       "      <td>173.93</td>\n",
       "      <td>0.46</td>\n",
       "      <td>28.4</td>\n",
       "      <td>28.6</td>\n",
       "      <td>16.3</td>\n",
       "      <td>0.9</td>\n",
       "      <td>0.10</td>\n",
       "      <td>9.37</td>\n",
       "      <td>17.9</td>\n",
       "    </tr>\n",
       "    <tr>\n",
       "      <th>13</th>\n",
       "      <td>1.20</td>\n",
       "      <td>0.75</td>\n",
       "      <td>28.6</td>\n",
       "      <td>11.2</td>\n",
       "      <td>5.4</td>\n",
       "      <td>0.3</td>\n",
       "      <td>0.93</td>\n",
       "      <td>30.37</td>\n",
       "      <td>21.3</td>\n",
       "    </tr>\n",
       "    <tr>\n",
       "      <th>14</th>\n",
       "      <td>132.56</td>\n",
       "      <td>0.46</td>\n",
       "      <td>18.9</td>\n",
       "      <td>40.6</td>\n",
       "      <td>15.0</td>\n",
       "      <td>1.1</td>\n",
       "      <td>0.28</td>\n",
       "      <td>17.35</td>\n",
       "      <td>14.1</td>\n",
       "    </tr>\n",
       "    <tr>\n",
       "      <th>15</th>\n",
       "      <td>96.65</td>\n",
       "      <td>0.19</td>\n",
       "      <td>21.6</td>\n",
       "      <td>17.9</td>\n",
       "      <td>11.2</td>\n",
       "      <td>0.5</td>\n",
       "      <td>0.06</td>\n",
       "      <td>-2.69</td>\n",
       "      <td>22.4</td>\n",
       "    </tr>\n",
       "    <tr>\n",
       "      <th>16</th>\n",
       "      <td>199.47</td>\n",
       "      <td>0.65</td>\n",
       "      <td>23.6</td>\n",
       "      <td>45.6</td>\n",
       "      <td>19.2</td>\n",
       "      <td>0.8</td>\n",
       "      <td>0.16</td>\n",
       "      <td>25.54</td>\n",
       "      <td>25.2</td>\n",
       "    </tr>\n",
       "    <tr>\n",
       "      <th>17</th>\n",
       "      <td>56.24</td>\n",
       "      <td>0.40</td>\n",
       "      <td>56.5</td>\n",
       "      <td>13.5</td>\n",
       "      <td>5.7</td>\n",
       "      <td>0.6</td>\n",
       "      <td>0.35</td>\n",
       "      <td>15.00</td>\n",
       "      <td>7.3</td>\n",
       "    </tr>\n",
       "    <tr>\n",
       "      <th>18</th>\n",
       "      <td>34.10</td>\n",
       "      <td>0.51</td>\n",
       "      <td>18.9</td>\n",
       "      <td>22.6</td>\n",
       "      <td>13.3</td>\n",
       "      <td>0.8</td>\n",
       "      <td>0.00</td>\n",
       "      <td>8.56</td>\n",
       "      <td>17.6</td>\n",
       "    </tr>\n",
       "    <tr>\n",
       "      <th>19</th>\n",
       "      <td>3.26</td>\n",
       "      <td>0.24</td>\n",
       "      <td>18.4</td>\n",
       "      <td>10.2</td>\n",
       "      <td>6.8</td>\n",
       "      <td>0.5</td>\n",
       "      <td>0.20</td>\n",
       "      <td>29.18</td>\n",
       "      <td>15.1</td>\n",
       "    </tr>\n",
       "    <tr>\n",
       "      <th>20</th>\n",
       "      <td>48.19</td>\n",
       "      <td>0.63</td>\n",
       "      <td>13.1</td>\n",
       "      <td>54.9</td>\n",
       "      <td>13.4</td>\n",
       "      <td>0.6</td>\n",
       "      <td>1.12</td>\n",
       "      <td>0.36</td>\n",
       "      <td>25.5</td>\n",
       "    </tr>\n",
       "  </tbody>\n",
       "</table>\n",
       "</div>"
      ],
      "text/plain": [
       "    Market_Cap  Beta  PE_Ratio   ROE   ROA  Asset_Turnover  Leverage  \\\n",
       "0        68.44  0.32      24.7  26.4  11.8             0.7      0.42   \n",
       "1         7.58  0.41      82.5  12.9   5.5             0.9      0.60   \n",
       "2         6.30  0.46      20.7  14.9   7.8             0.9      0.27   \n",
       "3        67.63  0.52      21.5  27.4  15.4             0.9      0.00   \n",
       "4        47.16  0.32      20.1  21.8   7.5             0.6      0.34   \n",
       "5        16.90  1.11      27.9   3.9   1.4             0.6      0.00   \n",
       "6        51.33  0.50      13.9  34.8  15.1             0.9      0.57   \n",
       "7         0.41  0.85      26.0  24.1   4.3             0.6      3.51   \n",
       "8         0.78  1.08       3.6  15.1   5.1             0.3      1.07   \n",
       "9        73.84  0.18      27.9  31.0  13.5             0.6      0.53   \n",
       "10      122.11  0.35      18.0  62.9  20.3             1.0      0.34   \n",
       "11        2.60  0.65      19.9  21.4   6.8             0.6      1.45   \n",
       "12      173.93  0.46      28.4  28.6  16.3             0.9      0.10   \n",
       "13        1.20  0.75      28.6  11.2   5.4             0.3      0.93   \n",
       "14      132.56  0.46      18.9  40.6  15.0             1.1      0.28   \n",
       "15       96.65  0.19      21.6  17.9  11.2             0.5      0.06   \n",
       "16      199.47  0.65      23.6  45.6  19.2             0.8      0.16   \n",
       "17       56.24  0.40      56.5  13.5   5.7             0.6      0.35   \n",
       "18       34.10  0.51      18.9  22.6  13.3             0.8      0.00   \n",
       "19        3.26  0.24      18.4  10.2   6.8             0.5      0.20   \n",
       "20       48.19  0.63      13.1  54.9  13.4             0.6      1.12   \n",
       "\n",
       "    Rev_Growth  Net_Profit_Margin  \n",
       "0         7.54               16.1  \n",
       "1         9.16                5.5  \n",
       "2         7.05               11.2  \n",
       "3        15.00               18.0  \n",
       "4        26.81               12.9  \n",
       "5        -3.17                2.6  \n",
       "6         2.70               20.6  \n",
       "7         6.38                7.5  \n",
       "8        34.21               13.3  \n",
       "9         6.21               23.4  \n",
       "10       21.87               21.1  \n",
       "11       13.99               11.0  \n",
       "12        9.37               17.9  \n",
       "13       30.37               21.3  \n",
       "14       17.35               14.1  \n",
       "15       -2.69               22.4  \n",
       "16       25.54               25.2  \n",
       "17       15.00                7.3  \n",
       "18        8.56               17.6  \n",
       "19       29.18               15.1  \n",
       "20        0.36               25.5  "
      ]
     },
     "execution_count": 7,
     "metadata": {},
     "output_type": "execute_result"
    }
   ],
   "source": [
    "pharm_numerical = pharmacy.iloc[:,2:11]\n",
    "pharm_numerical"
   ]
  },
  {
   "cell_type": "code",
   "execution_count": 11,
   "metadata": {
    "colab": {
     "base_uri": "https://localhost:8080/"
    },
    "id": "NVyKyrZ6w_hz",
    "outputId": "b9ebde79-5aef-446e-b88b-1e40b23fabe6"
   },
   "outputs": [
    {
     "data": {
      "text/plain": [
       "array([[ 1.88642282e-01, -8.21040576e-01, -4.78668159e-02,\n",
       "         4.10803822e-02,  2.47578717e-01, -5.24754233e-16,\n",
       "        -2.17335702e-01, -5.40800775e-01,  6.32054993e-02],\n",
       "       [-8.75518007e-01, -4.61835324e-01,  3.58342950e+00,\n",
       "        -8.75950197e-01, -9.65556995e-01,  9.45313187e-01,\n",
       "         1.87358364e-02, -3.90551348e-01, -1.59203499e+00],\n",
       "       [-8.97899295e-01, -2.62276851e-01, -2.99167599e-01,\n",
       "        -7.40093815e-01, -5.22666180e-01,  9.45313187e-01,\n",
       "        -4.14061984e-01, -5.86246589e-01, -7.01952839e-01],\n",
       "       [ 1.74479124e-01, -2.28066827e-02, -2.48907443e-01,\n",
       "         1.09008573e-01,  9.40799124e-01,  9.45313187e-01,\n",
       "        -7.68169291e-01,  1.51088563e-01,  3.59899549e-01],\n",
       "       [-1.83446626e-01, -8.21040576e-01, -3.36862717e-01,\n",
       "        -2.71389297e-01, -5.80434547e-01, -4.72656593e-01,\n",
       "        -3.22256386e-01,  1.24642544e+00, -4.36489742e-01],\n",
       "       [-7.12554256e-01,  2.33198330e+00,  1.53173811e-01,\n",
       "        -1.48730392e+00, -1.75505801e+00, -4.72656593e-01,\n",
       "        -7.68169291e-01, -1.53411643e+00, -2.04488380e+00],\n",
       "       [-1.10532587e-01, -1.02630072e-01, -7.26378931e-01,\n",
       "         6.11677187e-01,  8.83030756e-01,  9.45313187e-01,\n",
       "        -2.06094200e-02, -9.89694125e-01,  7.65901933e-01],\n",
       "       [-1.00088819e+00,  1.29427924e+00,  3.38059387e-02,\n",
       "        -1.15154457e-01, -1.19663046e+00, -4.72656593e-01,\n",
       "         3.83522571e+00, -6.48386784e-01, -1.27972546e+00],\n",
       "       [-9.94418598e-01,  2.21224822e+00, -1.37347845e+00,\n",
       "        -7.26508177e-01, -1.04258149e+00, -1.89062637e+00,\n",
       "         6.35144853e-01,  1.93274998e+00, -3.74027837e-01],\n",
       "       [ 2.83063340e-01, -1.37980430e+00,  1.53173811e-01,\n",
       "         3.53550061e-01,  5.74932798e-01, -4.72656593e-01,\n",
       "        -7.30697619e-02, -6.64153700e-01,  1.20313527e+00],\n",
       "       [ 1.12708268e+00, -7.01305492e-01, -4.68795628e-01,\n",
       "         2.52045936e+00,  1.88434912e+00,  1.41796978e+00,\n",
       "        -3.22256386e-01,  7.88257430e-01,  8.43979314e-01],\n",
       "       [-9.62595205e-01,  4.96045348e-01, -3.49427756e-01,\n",
       "        -2.98560573e-01, -7.15227404e-01, -4.72656593e-01,\n",
       "         1.13351810e+00,  5.74145371e-02, -7.33183792e-01],\n",
       "       [ 2.03317513e+00, -2.62276851e-01,  1.84586409e-01,\n",
       "         1.90522403e-01,  1.11410423e+00,  9.45313187e-01,\n",
       "        -6.37018437e-01, -3.71074570e-01,  3.44284073e-01],\n",
       "       [-9.87074738e-01,  8.95162294e-01,  1.97151448e-01,\n",
       "        -9.91428122e-01, -9.84813118e-01, -1.89062637e+00,\n",
       "         4.51533657e-01,  1.57660319e+00,  8.75210267e-01],\n",
       "       [ 1.30980491e+00, -2.62276851e-01, -4.12252952e-01,\n",
       "         1.00566070e+00,  8.63774634e-01,  1.89062637e+00,\n",
       "        -4.00946898e-01,  3.69042979e-01, -2.49104027e-01],\n",
       "       [ 6.81904881e-01, -1.33989261e+00, -2.42624923e-01,\n",
       "        -5.36309242e-01,  1.32041982e-01, -9.45313187e-01,\n",
       "        -6.89478779e-01, -1.48959808e+00,  1.04698051e+00],\n",
       "       [ 2.47975176e+00,  4.96045348e-01, -1.16974531e-01,\n",
       "         1.34530165e+00,  1.67253178e+00,  4.72656593e-01,\n",
       "        -5.58327924e-01,  1.12863731e+00,  1.48421384e+00],\n",
       "       [-2.46793664e-02, -5.01747018e-01,  1.94997441e+00,\n",
       "        -8.35193283e-01, -9.27044751e-01, -4.72656593e-01,\n",
       "        -3.09141300e-01,  1.51088563e-01, -1.31095641e+00],\n",
       "       [-4.11805702e-01, -6.27183773e-02, -4.12252952e-01,\n",
       "        -2.17046744e-01,  5.36420553e-01,  4.72656593e-01,\n",
       "        -7.68169291e-01, -4.46199284e-01,  2.97437644e-01],\n",
       "       [-9.51054853e-01, -1.14033413e+00, -4.43665550e-01,\n",
       "        -1.05935631e+00, -7.15227404e-01, -9.45313187e-01,\n",
       "        -5.05867582e-01,  1.46623478e+00, -9.29492637e-02],\n",
       "       [-1.65436684e-01,  4.16221958e-01, -7.76639088e-01,\n",
       "         1.97703383e+00,  5.55676675e-01, -4.72656593e-01,\n",
       "         7.00720281e-01, -1.20672108e+00,  1.53106027e+00]])"
      ]
     },
     "execution_count": 11,
     "metadata": {},
     "output_type": "execute_result"
    }
   ],
   "source": [
    "#import libraries\n",
    "import sklearn\n",
    "from sklearn.preprocessing import StandardScaler\n",
    "\n",
    "#create a scaler object\n",
    "scaler = StandardScaler()\n",
    "#standardize numerical features\n",
    "pharmacy_std = scaler.fit_transform(pharm_numerical)\n",
    "pharmacy_std"
   ]
  },
  {
   "cell_type": "markdown",
   "metadata": {},
   "source": [
    "# Step 2: Perform K-means cluster analysis<a class=\"anchor\" id=\"step2\"></a>\n",
    "[go_back_up](#steps)"
   ]
  },
  {
   "cell_type": "markdown",
   "metadata": {},
   "source": [
    "#### For the given data, how many clusters are recommended to perform k-means cluster analysis obtained by the elbow method?\n"
   ]
  },
  {
   "cell_type": "markdown",
   "metadata": {},
   "source": [
    "To answer this question, you need to create elbow visualization to get the optimal k. Let's say we want k to be ranged in **(1,8)**. And when we use Kmeans() we set **init ='k-means++', max_iter=300,  n_init=10, random_state=0**.\n",
    "\n"
   ]
  },
  {
   "cell_type": "code",
   "execution_count": 13,
   "metadata": {
    "id": "Ol-si9P8zP6F"
   },
   "outputs": [
    {
     "name": "stderr",
     "output_type": "stream",
     "text": [
      "C:\\Users\\HP\\anaconda3\\Lib\\site-packages\\sklearn\\cluster\\_kmeans.py:1429: UserWarning: KMeans is known to have a memory leak on Windows with MKL, when there are less chunks than available threads. You can avoid it by setting the environment variable OMP_NUM_THREADS=1.\n",
      "  warnings.warn(\n",
      "C:\\Users\\HP\\anaconda3\\Lib\\site-packages\\sklearn\\cluster\\_kmeans.py:1429: UserWarning: KMeans is known to have a memory leak on Windows with MKL, when there are less chunks than available threads. You can avoid it by setting the environment variable OMP_NUM_THREADS=1.\n",
      "  warnings.warn(\n",
      "C:\\Users\\HP\\anaconda3\\Lib\\site-packages\\sklearn\\cluster\\_kmeans.py:1429: UserWarning: KMeans is known to have a memory leak on Windows with MKL, when there are less chunks than available threads. You can avoid it by setting the environment variable OMP_NUM_THREADS=1.\n",
      "  warnings.warn(\n",
      "C:\\Users\\HP\\anaconda3\\Lib\\site-packages\\sklearn\\cluster\\_kmeans.py:1429: UserWarning: KMeans is known to have a memory leak on Windows with MKL, when there are less chunks than available threads. You can avoid it by setting the environment variable OMP_NUM_THREADS=1.\n",
      "  warnings.warn(\n",
      "C:\\Users\\HP\\anaconda3\\Lib\\site-packages\\sklearn\\cluster\\_kmeans.py:1429: UserWarning: KMeans is known to have a memory leak on Windows with MKL, when there are less chunks than available threads. You can avoid it by setting the environment variable OMP_NUM_THREADS=1.\n",
      "  warnings.warn(\n",
      "C:\\Users\\HP\\anaconda3\\Lib\\site-packages\\sklearn\\cluster\\_kmeans.py:1429: UserWarning: KMeans is known to have a memory leak on Windows with MKL, when there are less chunks than available threads. You can avoid it by setting the environment variable OMP_NUM_THREADS=1.\n",
      "  warnings.warn(\n",
      "C:\\Users\\HP\\anaconda3\\Lib\\site-packages\\sklearn\\cluster\\_kmeans.py:1429: UserWarning: KMeans is known to have a memory leak on Windows with MKL, when there are less chunks than available threads. You can avoid it by setting the environment variable OMP_NUM_THREADS=1.\n",
      "  warnings.warn(\n"
     ]
    },
    {
     "data": {
      "image/png": "[encoded data removed]",
      "text/plain": [
       "<Figure size 640x480 with 1 Axes>"
      ]
     },
     "metadata": {},
     "output_type": "display_data"
    }
   ],
   "source": [
    "#import libraries\n",
    "from sklearn.cluster import KMeans\n",
    "import matplotlib.pyplot as plt\n",
    "#calculate wcss and iterate  through k\n",
    "wcss =[]\n",
    "for i in range(1,8):\n",
    "    kmeans =KMeans(n_clusters = i,init ='k-means++', max_iter=300, n_init=10, random_state=0)\n",
    "    kmeans.fit(pharmacy_std)\n",
    "    wcss.append(kmeans.inertia_)\n",
    "\n",
    "#visualize the elbow\n",
    "plt.plot(range(1,8),wcss, marker = \"o\")\n",
    "plt.title('The Elbow Method Graph')\n",
    "plt.xlabel('Number of clusters')\n",
    "plt.ylabel('WCSS')\n",
    "plt.show()"
   ]
  },
  {
   "cell_type": "code",
   "execution_count": 43,
   "metadata": {},
   "outputs": [
    {
     "data": {
      "application/vnd.plotly.v1+json": {
       "config": {
        "plotlyServerURL": "https://plot.ly"
       },
       "data": [
        {
         "hovertemplate": "x=%{x}<br>y=%{y}<extra></extra>",
         "legendgroup": "",
         "line": {
          "color": "#636efa",
          "dash": "solid"
         },
         "marker": {
          "symbol": "circle"
         },
         "mode": "markers+lines",
         "name": "",
         "orientation": "v",
         "showlegend": false,
         "type": "scatter",
         "x": [
          1,
          2,
          3,
          4,
          5,
          6,
          7
         ],
         "xaxis": "x",
         "y": [
          189,
          124.49780964549282,
          103.42214583473768,
          88.06360138017543,
          67.37830017847097,
          55.308492857338486,
          45.39179682533377
         ],
         "yaxis": "y"
        }
       ],
       "layout": {
        "autosize": true,
        "legend": {
         "tracegroupgap": 0
        },
        "margin": {
         "t": 60
        },
        "template": {
         "data": {
          "bar": [
           {
            "error_x": {
             "color": "#2a3f5f"
            },
            "error_y": {
             "color": "#2a3f5f"
            },
            "marker": {
             "line": {
              "color": "#E5ECF6",
              "width": 0.5
             },
             "pattern": {
              "fillmode": "overlay",
              "size": 10,
              "solidity": 0.2
             }
            },
            "type": "bar"
           }
          ],
          "barpolar": [
           {
            "marker": {
             "line": {
              "color": "#E5ECF6",
              "width": 0.5
             },
             "pattern": {
              "fillmode": "overlay",
              "size": 10,
              "solidity": 0.2
             }
            },
            "type": "barpolar"
           }
          ],
          "carpet": [
           {
            "aaxis": {
             "endlinecolor": "#2a3f5f",
             "gridcolor": "white",
             "linecolor": "white",
             "minorgridcolor": "white",
             "startlinecolor": "#2a3f5f"
            },
            "baxis": {
             "endlinecolor": "#2a3f5f",
             "gridcolor": "white",
             "linecolor": "white",
             "minorgridcolor": "white",
             "startlinecolor": "#2a3f5f"
            },
            "type": "carpet"
           }
          ],
          "choropleth": [
           {
            "colorbar": {
             "outlinewidth": 0,
             "ticks": ""
            },
            "type": "choropleth"
           }
          ],
          "contour": [
           {
            "colorbar": {
             "outlinewidth": 0,
             "ticks": ""
            },
            "colorscale": [
             [
              0,
              "#0d0887"
             ],
             [
              0.1111111111111111,
              "#46039f"
             ],
             [
              0.2222222222222222,
              "#7201a8"
             ],
             [
              0.3333333333333333,
              "#9c179e"
             ],
             [
              0.4444444444444444,
              "#bd3786"
             ],
             [
              0.5555555555555556,
              "#d8576b"
             ],
             [
              0.6666666666666666,
              "#ed7953"
             ],
             [
              0.7777777777777778,
              "#fb9f3a"
             ],
             [
              0.8888888888888888,
              "#fdca26"
             ],
             [
              1,
              "#f0f921"
             ]
            ],
            "type": "contour"
           }
          ],
          "contourcarpet": [
           {
            "colorbar": {
             "outlinewidth": 0,
             "ticks": ""
            },
            "type": "contourcarpet"
           }
          ],
          "heatmap": [
           {
            "colorbar": {
             "outlinewidth": 0,
             "ticks": ""
            },
            "colorscale": [
             [
              0,
              "#0d0887"
             ],
             [
              0.1111111111111111,
              "#46039f"
             ],
             [
              0.2222222222222222,
              "#7201a8"
             ],
             [
              0.3333333333333333,
              "#9c179e"
             ],
             [
              0.4444444444444444,
              "#bd3786"
             ],
             [
              0.5555555555555556,
              "#d8576b"
             ],
             [
              0.6666666666666666,
              "#ed7953"
             ],
             [
              0.7777777777777778,
              "#fb9f3a"
             ],
             [
              0.8888888888888888,
              "#fdca26"
             ],
             [
              1,
              "#f0f921"
             ]
            ],
            "type": "heatmap"
           }
          ],
          "heatmapgl": [
           {
            "colorbar": {
             "outlinewidth": 0,
             "ticks": ""
            },
            "colorscale": [
             [
              0,
              "#0d0887"
             ],
             [
              0.1111111111111111,
              "#46039f"
             ],
             [
              0.2222222222222222,
              "#7201a8"
             ],
             [
              0.3333333333333333,
              "#9c179e"
             ],
             [
              0.4444444444444444,
              "#bd3786"
             ],
             [
              0.5555555555555556,
              "#d8576b"
             ],
             [
              0.6666666666666666,
              "#ed7953"
             ],
             [
              0.7777777777777778,
              "#fb9f3a"
             ],
             [
              0.8888888888888888,
              "#fdca26"
             ],
             [
              1,
              "#f0f921"
             ]
            ],
            "type": "heatmapgl"
           }
          ],
          "histogram": [
           {
            "marker": {
             "pattern": {
              "fillmode": "overlay",
              "size": 10,
              "solidity": 0.2
             }
            },
            "type": "histogram"
           }
          ],
          "histogram2d": [
           {
            "colorbar": {
             "outlinewidth": 0,
             "ticks": ""
            },
            "colorscale": [
             [
              0,
              "#0d0887"
             ],
             [
              0.1111111111111111,
              "#46039f"
             ],
             [
              0.2222222222222222,
              "#7201a8"
             ],
             [
              0.3333333333333333,
              "#9c179e"
             ],
             [
              0.4444444444444444,
              "#bd3786"
             ],
             [
              0.5555555555555556,
              "#d8576b"
             ],
             [
              0.6666666666666666,
              "#ed7953"
             ],
             [
              0.7777777777777778,
              "#fb9f3a"
             ],
             [
              0.8888888888888888,
              "#fdca26"
             ],
             [
              1,
              "#f0f921"
             ]
            ],
            "type": "histogram2d"
           }
          ],
          "histogram2dcontour": [
           {
            "colorbar": {
             "outlinewidth": 0,
             "ticks": ""
            },
            "colorscale": [
             [
              0,
              "#0d0887"
             ],
             [
              0.1111111111111111,
              "#46039f"
             ],
             [
              0.2222222222222222,
              "#7201a8"
             ],
             [
              0.3333333333333333,
              "#9c179e"
             ],
             [
              0.4444444444444444,
              "#bd3786"
             ],
             [
              0.5555555555555556,
              "#d8576b"
             ],
             [
              0.6666666666666666,
              "#ed7953"
             ],
             [
              0.7777777777777778,
              "#fb9f3a"
             ],
             [
              0.8888888888888888,
              "#fdca26"
             ],
             [
              1,
              "#f0f921"
             ]
            ],
            "type": "histogram2dcontour"
           }
          ],
          "mesh3d": [
           {
            "colorbar": {
             "outlinewidth": 0,
             "ticks": ""
            },
            "type": "mesh3d"
           }
          ],
          "parcoords": [
           {
            "line": {
             "colorbar": {
              "outlinewidth": 0,
              "ticks": ""
             }
            },
            "type": "parcoords"
           }
          ],
          "pie": [
           {
            "automargin": true,
            "type": "pie"
           }
          ],
          "scatter": [
           {
            "fillpattern": {
             "fillmode": "overlay",
             "size": 10,
             "solidity": 0.2
            },
            "type": "scatter"
           }
          ],
          "scatter3d": [
           {
            "line": {
             "colorbar": {
              "outlinewidth": 0,
              "ticks": ""
             }
            },
            "marker": {
             "colorbar": {
              "outlinewidth": 0,
              "ticks": ""
             }
            },
            "type": "scatter3d"
           }
          ],
          "scattercarpet": [
           {
            "marker": {
             "colorbar": {
              "outlinewidth": 0,
              "ticks": ""
             }
            },
            "type": "scattercarpet"
           }
          ],
          "scattergeo": [
           {
            "marker": {
             "colorbar": {
              "outlinewidth": 0,
              "ticks": ""
             }
            },
            "type": "scattergeo"
           }
          ],
          "scattergl": [
           {
            "marker": {
             "colorbar": {
              "outlinewidth": 0,
              "ticks": ""
             }
            },
            "type": "scattergl"
           }
          ],
          "scattermapbox": [
           {
            "marker": {
             "colorbar": {
              "outlinewidth": 0,
              "ticks": ""
             }
            },
            "type": "scattermapbox"
           }
          ],
          "scatterpolar": [
           {
            "marker": {
             "colorbar": {
              "outlinewidth": 0,
              "ticks": ""
             }
            },
            "type": "scatterpolar"
           }
          ],
          "scatterpolargl": [
           {
            "marker": {
             "colorbar": {
              "outlinewidth": 0,
              "ticks": ""
             }
            },
            "type": "scatterpolargl"
           }
          ],
          "scatterternary": [
           {
            "marker": {
             "colorbar": {
              "outlinewidth": 0,
              "ticks": ""
             }
            },
            "type": "scatterternary"
           }
          ],
          "surface": [
           {
            "colorbar": {
             "outlinewidth": 0,
             "ticks": ""
            },
            "colorscale": [
             [
              0,
              "#0d0887"
             ],
             [
              0.1111111111111111,
              "#46039f"
             ],
             [
              0.2222222222222222,
              "#7201a8"
             ],
             [
              0.3333333333333333,
              "#9c179e"
             ],
             [
              0.4444444444444444,
              "#bd3786"
             ],
             [
              0.5555555555555556,
              "#d8576b"
             ],
             [
              0.6666666666666666,
              "#ed7953"
             ],
             [
              0.7777777777777778,
              "#fb9f3a"
             ],
             [
              0.8888888888888888,
              "#fdca26"
             ],
             [
              1,
              "#f0f921"
             ]
            ],
            "type": "surface"
           }
          ],
          "table": [
           {
            "cells": {
             "fill": {
              "color": "#EBF0F8"
             },
             "line": {
              "color": "white"
             }
            },
            "header": {
             "fill": {
              "color": "#C8D4E3"
             },
             "line": {
              "color": "white"
             }
            },
            "type": "table"
           }
          ]
         },
         "layout": {
          "annotationdefaults": {
           "arrowcolor": "#2a3f5f",
           "arrowhead": 0,
           "arrowwidth": 1
          },
          "autotypenumbers": "strict",
          "coloraxis": {
           "colorbar": {
            "outlinewidth": 0,
            "ticks": ""
           }
          },
          "colorscale": {
           "diverging": [
            [
             0,
             "#8e0152"
            ],
            [
             0.1,
             "#c51b7d"
            ],
            [
             0.2,
             "#de77ae"
            ],
            [
             0.3,
             "#f1b6da"
            ],
            [
             0.4,
             "#fde0ef"
            ],
            [
             0.5,
             "#f7f7f7"
            ],
            [
             0.6,
             "#e6f5d0"
            ],
            [
             0.7,
             "#b8e186"
            ],
            [
             0.8,
             "#7fbc41"
            ],
            [
             0.9,
             "#4d9221"
            ],
            [
             1,
             "#276419"
            ]
           ],
           "sequential": [
            [
             0,
             "#0d0887"
            ],
            [
             0.1111111111111111,
             "#46039f"
            ],
            [
             0.2222222222222222,
             "#7201a8"
            ],
            [
             0.3333333333333333,
             "#9c179e"
            ],
            [
             0.4444444444444444,
             "#bd3786"
            ],
            [
             0.5555555555555556,
             "#d8576b"
            ],
            [
             0.6666666666666666,
             "#ed7953"
            ],
            [
             0.7777777777777778,
             "#fb9f3a"
            ],
            [
             0.8888888888888888,
             "#fdca26"
            ],
            [
             1,
             "#f0f921"
            ]
           ],
           "sequentialminus": [
            [
             0,
             "#0d0887"
            ],
            [
             0.1111111111111111,
             "#46039f"
            ],
            [
             0.2222222222222222,
             "#7201a8"
            ],
            [
             0.3333333333333333,
             "#9c179e"
            ],
            [
             0.4444444444444444,
             "#bd3786"
            ],
            [
             0.5555555555555556,
             "#d8576b"
            ],
            [
             0.6666666666666666,
             "#ed7953"
            ],
            [
             0.7777777777777778,
             "#fb9f3a"
            ],
            [
             0.8888888888888888,
             "#fdca26"
            ],
            [
             1,
             "#f0f921"
            ]
           ]
          },
          "colorway": [
           "#636efa",
           "#EF553B",
           "#00cc96",
           "#ab63fa",
           "#FFA15A",
           "#19d3f3",
           "#FF6692",
           "#B6E880",
           "#FF97FF",
           "#FECB52"
          ],
          "font": {
           "color": "#2a3f5f"
          },
          "geo": {
           "bgcolor": "white",
           "lakecolor": "white",
           "landcolor": "#E5ECF6",
           "showlakes": true,
           "showland": true,
           "subunitcolor": "white"
          },
          "hoverlabel": {
           "align": "left"
          },
          "hovermode": "closest",
          "mapbox": {
           "style": "light"
          },
          "paper_bgcolor": "white",
          "plot_bgcolor": "#E5ECF6",
          "polar": {
           "angularaxis": {
            "gridcolor": "white",
            "linecolor": "white",
            "ticks": ""
           },
           "bgcolor": "#E5ECF6",
           "radialaxis": {
            "gridcolor": "white",
            "linecolor": "white",
            "ticks": ""
           }
          },
          "scene": {
           "xaxis": {
            "backgroundcolor": "#E5ECF6",
            "gridcolor": "white",
            "gridwidth": 2,
            "linecolor": "white",
            "showbackground": true,
            "ticks": "",
            "zerolinecolor": "white"
           },
           "yaxis": {
            "backgroundcolor": "#E5ECF6",
            "gridcolor": "white",
            "gridwidth": 2,
            "linecolor": "white",
            "showbackground": true,
            "ticks": "",
            "zerolinecolor": "white"
           },
           "zaxis": {
            "backgroundcolor": "#E5ECF6",
            "gridcolor": "white",
            "gridwidth": 2,
            "linecolor": "white",
            "showbackground": true,
            "ticks": "",
            "zerolinecolor": "white"
           }
          },
          "shapedefaults": {
           "line": {
            "color": "#2a3f5f"
           }
          },
          "ternary": {
           "aaxis": {
            "gridcolor": "white",
            "linecolor": "white",
            "ticks": ""
           },
           "baxis": {
            "gridcolor": "white",
            "linecolor": "white",
            "ticks": ""
           },
           "bgcolor": "#E5ECF6",
           "caxis": {
            "gridcolor": "white",
            "linecolor": "white",
            "ticks": ""
           }
          },
          "title": {
           "x": 0.05
          },
          "xaxis": {
           "automargin": true,
           "gridcolor": "white",
           "linecolor": "white",
           "ticks": "",
           "title": {
            "standoff": 15
           },
           "zerolinecolor": "white",
           "zerolinewidth": 2
          },
          "yaxis": {
           "automargin": true,
           "gridcolor": "white",
           "linecolor": "white",
           "ticks": "",
           "title": {
            "standoff": 15
           },
           "zerolinecolor": "white",
           "zerolinewidth": 2
          }
         }
        },
        "xaxis": {
         "anchor": "y",
         "autorange": true,
         "domain": [
          0,
          1
         ],
         "range": [
          0.6368834882058614,
          7.363116511794138
         ],
         "title": {
          "text": "x"
         },
         "type": "linear"
        },
        "yaxis": {
         "anchor": "x",
         "autorange": true,
         "domain": [
          0,
          1
         ],
         "range": [
          34.27252650078612,
          200.11927032454764
         ],
         "title": {
          "text": "y"
         },
         "type": "linear"
        }
       }
      },
      "image/png": "[encoded data removed]",
      "text/html": [
       "<div>                            <div id=\"9fb3c563-422a-4c00-9de6-d55bad5bac69\" class=\"plotly-graph-div\" style=\"height:525px; width:100%;\"></div>            <script type=\"text/javascript\">                require([\"plotly\"], function(Plotly) {                    window.PLOTLYENV=window.PLOTLYENV || {};                                    if (document.getElementById(\"9fb3c563-422a-4c00-9de6-d55bad5bac69\")) {                    Plotly.newPlot(                        \"9fb3c563-422a-4c00-9de6-d55bad5bac69\",                        [{\"hovertemplate\":\"x=%{x}<br>y=%{y}<extra></extra>\",\"legendgroup\":\"\",\"line\":{\"color\":\"#636efa\",\"dash\":\"solid\"},\"marker\":{\"symbol\":\"circle\"},\"mode\":\"markers+lines\",\"name\":\"\",\"orientation\":\"v\",\"showlegend\":false,\"x\":[1,2,3,4,5,6,7],\"xaxis\":\"x\",\"y\":[189.0,124.49780964549282,103.42214583473768,88.06360138017543,67.37830017847097,55.308492857338486,45.39179682533377],\"yaxis\":\"y\",\"type\":\"scatter\"}],                        {\"template\":{\"data\":{\"histogram2dcontour\":[{\"type\":\"histogram2dcontour\",\"colorbar\":{\"outlinewidth\":0,\"ticks\":\"\"},\"colorscale\":[[0.0,\"#0d0887\"],[0.1111111111111111,\"#46039f\"],[0.2222222222222222,\"#7201a8\"],[0.3333333333333333,\"#9c179e\"],[0.4444444444444444,\"#bd3786\"],[0.5555555555555556,\"#d8576b\"],[0.6666666666666666,\"#ed7953\"],[0.7777777777777778,\"#fb9f3a\"],[0.8888888888888888,\"#fdca26\"],[1.0,\"#f0f921\"]]}],\"choropleth\":[{\"type\":\"choropleth\",\"colorbar\":{\"outlinewidth\":0,\"ticks\":\"\"}}],\"histogram2d\":[{\"type\":\"histogram2d\",\"colorbar\":{\"outlinewidth\":0,\"ticks\":\"\"},\"colorscale\":[[0.0,\"#0d0887\"],[0.1111111111111111,\"#46039f\"],[0.2222222222222222,\"#7201a8\"],[0.3333333333333333,\"#9c179e\"],[0.4444444444444444,\"#bd3786\"],[0.5555555555555556,\"#d8576b\"],[0.6666666666666666,\"#ed7953\"],[0.7777777777777778,\"#fb9f3a\"],[0.8888888888888888,\"#fdca26\"],[1.0,\"#f0f921\"]]}],\"heatmap\":[{\"type\":\"heatmap\",\"colorbar\":{\"outlinewidth\":0,\"ticks\":\"\"},\"colorscale\":[[0.0,\"#0d0887\"],[0.1111111111111111,\"#46039f\"],[0.2222222222222222,\"#7201a8\"],[0.3333333333333333,\"#9c179e\"],[0.4444444444444444,\"#bd3786\"],[0.5555555555555556,\"#d8576b\"],[0.6666666666666666,\"#ed7953\"],[0.7777777777777778,\"#fb9f3a\"],[0.8888888888888888,\"#fdca26\"],[1.0,\"#f0f921\"]]}],\"heatmapgl\":[{\"type\":\"heatmapgl\",\"colorbar\":{\"outlinewidth\":0,\"ticks\":\"\"},\"colorscale\":[[0.0,\"#0d0887\"],[0.1111111111111111,\"#46039f\"],[0.2222222222222222,\"#7201a8\"],[0.3333333333333333,\"#9c179e\"],[0.4444444444444444,\"#bd3786\"],[0.5555555555555556,\"#d8576b\"],[0.6666666666666666,\"#ed7953\"],[0.7777777777777778,\"#fb9f3a\"],[0.8888888888888888,\"#fdca26\"],[1.0,\"#f0f921\"]]}],\"contourcarpet\":[{\"type\":\"contourcarpet\",\"colorbar\":{\"outlinewidth\":0,\"ticks\":\"\"}}],\"contour\":[{\"type\":\"contour\",\"colorbar\":{\"outlinewidth\":0,\"ticks\":\"\"},\"colorscale\":[[0.0,\"#0d0887\"],[0.1111111111111111,\"#46039f\"],[0.2222222222222222,\"#7201a8\"],[0.3333333333333333,\"#9c179e\"],[0.4444444444444444,\"#bd3786\"],[0.5555555555555556,\"#d8576b\"],[0.6666666666666666,\"#ed7953\"],[0.7777777777777778,\"#fb9f3a\"],[0.8888888888888888,\"#fdca26\"],[1.0,\"#f0f921\"]]}],\"surface\":[{\"type\":\"surface\",\"colorbar\":{\"outlinewidth\":0,\"ticks\":\"\"},\"colorscale\":[[0.0,\"#0d0887\"],[0.1111111111111111,\"#46039f\"],[0.2222222222222222,\"#7201a8\"],[0.3333333333333333,\"#9c179e\"],[0.4444444444444444,\"#bd3786\"],[0.5555555555555556,\"#d8576b\"],[0.6666666666666666,\"#ed7953\"],[0.7777777777777778,\"#fb9f3a\"],[0.8888888888888888,\"#fdca26\"],[1.0,\"#f0f921\"]]}],\"mesh3d\":[{\"type\":\"mesh3d\",\"colorbar\":{\"outlinewidth\":0,\"ticks\":\"\"}}],\"scatter\":[{\"fillpattern\":{\"fillmode\":\"overlay\",\"size\":10,\"solidity\":0.2},\"type\":\"scatter\"}],\"parcoords\":[{\"type\":\"parcoords\",\"line\":{\"colorbar\":{\"outlinewidth\":0,\"ticks\":\"\"}}}],\"scatterpolargl\":[{\"type\":\"scatterpolargl\",\"marker\":{\"colorbar\":{\"outlinewidth\":0,\"ticks\":\"\"}}}],\"bar\":[{\"error_x\":{\"color\":\"#2a3f5f\"},\"error_y\":{\"color\":\"#2a3f5f\"},\"marker\":{\"line\":{\"color\":\"#E5ECF6\",\"width\":0.5},\"pattern\":{\"fillmode\":\"overlay\",\"size\":10,\"solidity\":0.2}},\"type\":\"bar\"}],\"scattergeo\":[{\"type\":\"scattergeo\",\"marker\":{\"colorbar\":{\"outlinewidth\":0,\"ticks\":\"\"}}}],\"scatterpolar\":[{\"type\":\"scatterpolar\",\"marker\":{\"colorbar\":{\"outlinewidth\":0,\"ticks\":\"\"}}}],\"histogram\":[{\"marker\":{\"pattern\":{\"fillmode\":\"overlay\",\"size\":10,\"solidity\":0.2}},\"type\":\"histogram\"}],\"scattergl\":[{\"type\":\"scattergl\",\"marker\":{\"colorbar\":{\"outlinewidth\":0,\"ticks\":\"\"}}}],\"scatter3d\":[{\"type\":\"scatter3d\",\"line\":{\"colorbar\":{\"outlinewidth\":0,\"ticks\":\"\"}},\"marker\":{\"colorbar\":{\"outlinewidth\":0,\"ticks\":\"\"}}}],\"scattermapbox\":[{\"type\":\"scattermapbox\",\"marker\":{\"colorbar\":{\"outlinewidth\":0,\"ticks\":\"\"}}}],\"scatterternary\":[{\"type\":\"scatterternary\",\"marker\":{\"colorbar\":{\"outlinewidth\":0,\"ticks\":\"\"}}}],\"scattercarpet\":[{\"type\":\"scattercarpet\",\"marker\":{\"colorbar\":{\"outlinewidth\":0,\"ticks\":\"\"}}}],\"carpet\":[{\"aaxis\":{\"endlinecolor\":\"#2a3f5f\",\"gridcolor\":\"white\",\"linecolor\":\"white\",\"minorgridcolor\":\"white\",\"startlinecolor\":\"#2a3f5f\"},\"baxis\":{\"endlinecolor\":\"#2a3f5f\",\"gridcolor\":\"white\",\"linecolor\":\"white\",\"minorgridcolor\":\"white\",\"startlinecolor\":\"#2a3f5f\"},\"type\":\"carpet\"}],\"table\":[{\"cells\":{\"fill\":{\"color\":\"#EBF0F8\"},\"line\":{\"color\":\"white\"}},\"header\":{\"fill\":{\"color\":\"#C8D4E3\"},\"line\":{\"color\":\"white\"}},\"type\":\"table\"}],\"barpolar\":[{\"marker\":{\"line\":{\"color\":\"#E5ECF6\",\"width\":0.5},\"pattern\":{\"fillmode\":\"overlay\",\"size\":10,\"solidity\":0.2}},\"type\":\"barpolar\"}],\"pie\":[{\"automargin\":true,\"type\":\"pie\"}]},\"layout\":{\"autotypenumbers\":\"strict\",\"colorway\":[\"#636efa\",\"#EF553B\",\"#00cc96\",\"#ab63fa\",\"#FFA15A\",\"#19d3f3\",\"#FF6692\",\"#B6E880\",\"#FF97FF\",\"#FECB52\"],\"font\":{\"color\":\"#2a3f5f\"},\"hovermode\":\"closest\",\"hoverlabel\":{\"align\":\"left\"},\"paper_bgcolor\":\"white\",\"plot_bgcolor\":\"#E5ECF6\",\"polar\":{\"bgcolor\":\"#E5ECF6\",\"angularaxis\":{\"gridcolor\":\"white\",\"linecolor\":\"white\",\"ticks\":\"\"},\"radialaxis\":{\"gridcolor\":\"white\",\"linecolor\":\"white\",\"ticks\":\"\"}},\"ternary\":{\"bgcolor\":\"#E5ECF6\",\"aaxis\":{\"gridcolor\":\"white\",\"linecolor\":\"white\",\"ticks\":\"\"},\"baxis\":{\"gridcolor\":\"white\",\"linecolor\":\"white\",\"ticks\":\"\"},\"caxis\":{\"gridcolor\":\"white\",\"linecolor\":\"white\",\"ticks\":\"\"}},\"coloraxis\":{\"colorbar\":{\"outlinewidth\":0,\"ticks\":\"\"}},\"colorscale\":{\"sequential\":[[0.0,\"#0d0887\"],[0.1111111111111111,\"#46039f\"],[0.2222222222222222,\"#7201a8\"],[0.3333333333333333,\"#9c179e\"],[0.4444444444444444,\"#bd3786\"],[0.5555555555555556,\"#d8576b\"],[0.6666666666666666,\"#ed7953\"],[0.7777777777777778,\"#fb9f3a\"],[0.8888888888888888,\"#fdca26\"],[1.0,\"#f0f921\"]],\"sequentialminus\":[[0.0,\"#0d0887\"],[0.1111111111111111,\"#46039f\"],[0.2222222222222222,\"#7201a8\"],[0.3333333333333333,\"#9c179e\"],[0.4444444444444444,\"#bd3786\"],[0.5555555555555556,\"#d8576b\"],[0.6666666666666666,\"#ed7953\"],[0.7777777777777778,\"#fb9f3a\"],[0.8888888888888888,\"#fdca26\"],[1.0,\"#f0f921\"]],\"diverging\":[[0,\"#8e0152\"],[0.1,\"#c51b7d\"],[0.2,\"#de77ae\"],[0.3,\"#f1b6da\"],[0.4,\"#fde0ef\"],[0.5,\"#f7f7f7\"],[0.6,\"#e6f5d0\"],[0.7,\"#b8e186\"],[0.8,\"#7fbc41\"],[0.9,\"#4d9221\"],[1,\"#276419\"]]},\"xaxis\":{\"gridcolor\":\"white\",\"linecolor\":\"white\",\"ticks\":\"\",\"title\":{\"standoff\":15},\"zerolinecolor\":\"white\",\"automargin\":true,\"zerolinewidth\":2},\"yaxis\":{\"gridcolor\":\"white\",\"linecolor\":\"white\",\"ticks\":\"\",\"title\":{\"standoff\":15},\"zerolinecolor\":\"white\",\"automargin\":true,\"zerolinewidth\":2},\"scene\":{\"xaxis\":{\"backgroundcolor\":\"#E5ECF6\",\"gridcolor\":\"white\",\"linecolor\":\"white\",\"showbackground\":true,\"ticks\":\"\",\"zerolinecolor\":\"white\",\"gridwidth\":2},\"yaxis\":{\"backgroundcolor\":\"#E5ECF6\",\"gridcolor\":\"white\",\"linecolor\":\"white\",\"showbackground\":true,\"ticks\":\"\",\"zerolinecolor\":\"white\",\"gridwidth\":2},\"zaxis\":{\"backgroundcolor\":\"#E5ECF6\",\"gridcolor\":\"white\",\"linecolor\":\"white\",\"showbackground\":true,\"ticks\":\"\",\"zerolinecolor\":\"white\",\"gridwidth\":2}},\"shapedefaults\":{\"line\":{\"color\":\"#2a3f5f\"}},\"annotationdefaults\":{\"arrowcolor\":\"#2a3f5f\",\"arrowhead\":0,\"arrowwidth\":1},\"geo\":{\"bgcolor\":\"white\",\"landcolor\":\"#E5ECF6\",\"subunitcolor\":\"white\",\"showland\":true,\"showlakes\":true,\"lakecolor\":\"white\"},\"title\":{\"x\":0.05},\"mapbox\":{\"style\":\"light\"}}},\"xaxis\":{\"anchor\":\"y\",\"domain\":[0.0,1.0],\"title\":{\"text\":\"x\"}},\"yaxis\":{\"anchor\":\"x\",\"domain\":[0.0,1.0],\"title\":{\"text\":\"y\"}},\"legend\":{\"tracegroupgap\":0},\"margin\":{\"t\":60}},                        {\"responsive\": true}                    ).then(function(){\n",
       "                            \n",
       "var gd = document.getElementById('9fb3c563-422a-4c00-9de6-d55bad5bac69');\n",
       "var x = new MutationObserver(function (mutations, observer) {{\n",
       "        var display = window.getComputedStyle(gd).display;\n",
       "        if (!display || display === 'none') {{\n",
       "            console.log([gd, 'removed!']);\n",
       "            Plotly.purge(gd);\n",
       "            observer.disconnect();\n",
       "        }}\n",
       "}});\n",
       "\n",
       "// Listen for the removal of the full notebook cells\n",
       "var notebookContainer = gd.closest('#notebook-container');\n",
       "if (notebookContainer) {{\n",
       "    x.observe(notebookContainer, {childList: true});\n",
       "}}\n",
       "\n",
       "// Listen for the clearing of the current output cell\n",
       "var outputEl = gd.closest('.output');\n",
       "if (outputEl) {{\n",
       "    x.observe(outputEl, {childList: true});\n",
       "}}\n",
       "\n",
       "                        })                };                });            </script>        </div>"
      ]
     },
     "metadata": {},
     "output_type": "display_data"
    }
   ],
   "source": [
    "#elbow method visualized using lineplot in plotly\n",
    "import plotly.express as px\n",
    "fig = px.line(x= range(1,8),y= wcss, markers =True)\n",
    "fig.show()"
   ]
  },
  {
   "cell_type": "code",
   "execution_count": 15,
   "metadata": {},
   "outputs": [
    {
     "name": "stderr",
     "output_type": "stream",
     "text": [
      "C:\\Users\\HP\\anaconda3\\Lib\\site-packages\\sklearn\\cluster\\_kmeans.py:1429: UserWarning: KMeans is known to have a memory leak on Windows with MKL, when there are less chunks than available threads. You can avoid it by setting the environment variable OMP_NUM_THREADS=1.\n",
      "  warnings.warn(\n",
      "C:\\Users\\HP\\anaconda3\\Lib\\site-packages\\sklearn\\cluster\\_kmeans.py:1429: UserWarning: KMeans is known to have a memory leak on Windows with MKL, when there are less chunks than available threads. You can avoid it by setting the environment variable OMP_NUM_THREADS=1.\n",
      "  warnings.warn(\n",
      "C:\\Users\\HP\\anaconda3\\Lib\\site-packages\\sklearn\\cluster\\_kmeans.py:1429: UserWarning: KMeans is known to have a memory leak on Windows with MKL, when there are less chunks than available threads. You can avoid it by setting the environment variable OMP_NUM_THREADS=1.\n",
      "  warnings.warn(\n",
      "C:\\Users\\HP\\anaconda3\\Lib\\site-packages\\sklearn\\cluster\\_kmeans.py:1429: UserWarning: KMeans is known to have a memory leak on Windows with MKL, when there are less chunks than available threads. You can avoid it by setting the environment variable OMP_NUM_THREADS=1.\n",
      "  warnings.warn(\n",
      "C:\\Users\\HP\\anaconda3\\Lib\\site-packages\\sklearn\\cluster\\_kmeans.py:1429: UserWarning: KMeans is known to have a memory leak on Windows with MKL, when there are less chunks than available threads. You can avoid it by setting the environment variable OMP_NUM_THREADS=1.\n",
      "  warnings.warn(\n",
      "C:\\Users\\HP\\anaconda3\\Lib\\site-packages\\sklearn\\cluster\\_kmeans.py:1429: UserWarning: KMeans is known to have a memory leak on Windows with MKL, when there are less chunks than available threads. You can avoid it by setting the environment variable OMP_NUM_THREADS=1.\n",
      "  warnings.warn(\n",
      "C:\\Users\\HP\\anaconda3\\Lib\\site-packages\\sklearn\\cluster\\_kmeans.py:1429: UserWarning: KMeans is known to have a memory leak on Windows with MKL, when there are less chunks than available threads. You can avoid it by setting the environment variable OMP_NUM_THREADS=1.\n",
      "  warnings.warn(\n"
     ]
    },
    {
     "data": {
      "image/png": "[encoded data removed]",
      "text/plain": [
       "<Figure size 640x480 with 1 Axes>"
      ]
     },
     "metadata": {},
     "output_type": "display_data"
    },
    {
     "name": "stdout",
     "output_type": "stream",
     "text": [
      "Optimal number of clusters: 2\n"
     ]
    }
   ],
   "source": [
    "from sklearn.metrics import silhouette_score\n",
    "\n",
    "# Range of clusters to try\n",
    "range_n_clusters = [2, 3, 4, 5, 6, 7,8]\n",
    "\n",
    "silhouette_scores = []\n",
    "\n",
    "for n_clusters in range_n_clusters:\n",
    "    # Initialize clustering algorithm\n",
    "    clusterer = KMeans(n_clusters=n_clusters, random_state=0)\n",
    "    cluster_labels = clusterer.fit_predict(pharmacy_std)\n",
    "    \n",
    "    # Calculate silhouette score\n",
    "    silhouette_avg = silhouette_score(pharmacy_std, cluster_labels)\n",
    "    silhouette_scores.append(silhouette_avg)\n",
    "\n",
    "# Plot silhouette scores\n",
    "plt.plot(range_n_clusters, silhouette_scores, marker='o')\n",
    "plt.xlabel('Number of Clusters')\n",
    "plt.ylabel('Silhouette Score')\n",
    "plt.title('Silhouette Score vs Number of Clusters')\n",
    "plt.show()\n",
    "\n",
    "# Choose the optimal number of clusters\n",
    "optimal_n_clusters = range_n_clusters[silhouette_scores.index(max(silhouette_scores))]\n",
    "print(\"Optimal number of clusters:\", optimal_n_clusters)"
   ]
  },
  {
   "cell_type": "markdown",
   "metadata": {},
   "source": [
    "#### Now let's perform k-means cluster analysis using KMeans() by specifying the identifed k with **init ='k-means++', max_iter=300,  n_init=10, random_state=0**.\n",
    "\n"
   ]
  },
  {
   "cell_type": "code",
   "execution_count": 27,
   "metadata": {
    "colab": {
     "base_uri": "https://localhost:8080/"
    },
    "id": "1cOTtRtyzlsJ",
    "outputId": "2b17de5e-e3f3-4efe-d3cb-a53083eb5d74"
   },
   "outputs": [
    {
     "name": "stderr",
     "output_type": "stream",
     "text": [
      "C:\\Users\\HP\\anaconda3\\Lib\\site-packages\\sklearn\\cluster\\_kmeans.py:1429: UserWarning: KMeans is known to have a memory leak on Windows with MKL, when there are less chunks than available threads. You can avoid it by setting the environment variable OMP_NUM_THREADS=1.\n",
      "  warnings.warn(\n"
     ]
    }
   ],
   "source": [
    "#perform k means cluster analysis using 5 clusters\n",
    "km = KMeans(n_clusters= 2, init= 'k-means++', n_init= 10, max_iter= 300, random_state= 0).fit(pharmacy_std)"
   ]
  },
  {
   "cell_type": "markdown",
   "metadata": {},
   "source": [
    "#### Which cluster label does Abbott Laboratories belong to?\n",
    "To answer this question, first you need assign the data points into the clusters using **predict**,Then create a new column called **label** to save the cluster labels for each data point in the data.\n",
    "\n"
   ]
  },
  {
   "cell_type": "code",
   "execution_count": 29,
   "metadata": {},
   "outputs": [
    {
     "data": {
      "text/plain": [
       "array([1, 0, 0, 1, 0, 0, 1, 0, 0, 1, 1, 0, 1, 0, 1, 1, 1, 0, 1, 0, 1])"
      ]
     },
     "execution_count": 29,
     "metadata": {},
     "output_type": "execute_result"
    }
   ],
   "source": [
    "#assign data points to clusters\n",
    "clusters = km.predict(pharmacy_std)\n",
    "clusters"
   ]
  },
  {
   "cell_type": "code",
   "execution_count": 31,
   "metadata": {},
   "outputs": [
    {
     "data": {
      "text/html": [
       "<div>\n",
       "<style scoped>\n",
       "    .dataframe tbody tr th:only-of-type {\n",
       "        vertical-align: middle;\n",
       "    }\n",
       "\n",
       "    .dataframe tbody tr th {\n",
       "        vertical-align: top;\n",
       "    }\n",
       "\n",
       "    .dataframe thead th {\n",
       "        text-align: right;\n",
       "    }\n",
       "</style>\n",
       "<table border=\"1\" class=\"dataframe\">\n",
       "  <thead>\n",
       "    <tr style=\"text-align: right;\">\n",
       "      <th></th>\n",
       "      <th>Symbol</th>\n",
       "      <th>Name</th>\n",
       "      <th>Market_Cap</th>\n",
       "      <th>Beta</th>\n",
       "      <th>PE_Ratio</th>\n",
       "      <th>ROE</th>\n",
       "      <th>ROA</th>\n",
       "      <th>Asset_Turnover</th>\n",
       "      <th>Leverage</th>\n",
       "      <th>Rev_Growth</th>\n",
       "      <th>Net_Profit_Margin</th>\n",
       "      <th>Median_Recommendation</th>\n",
       "      <th>Location</th>\n",
       "      <th>Exchange</th>\n",
       "      <th>label</th>\n",
       "    </tr>\n",
       "  </thead>\n",
       "  <tbody>\n",
       "    <tr>\n",
       "      <th>0</th>\n",
       "      <td>ABT</td>\n",
       "      <td>Abbott Laboratories</td>\n",
       "      <td>68.44</td>\n",
       "      <td>0.32</td>\n",
       "      <td>24.7</td>\n",
       "      <td>26.4</td>\n",
       "      <td>11.8</td>\n",
       "      <td>0.7</td>\n",
       "      <td>0.42</td>\n",
       "      <td>7.54</td>\n",
       "      <td>16.1</td>\n",
       "      <td>Moderate Buy</td>\n",
       "      <td>US</td>\n",
       "      <td>NYSE</td>\n",
       "      <td>1</td>\n",
       "    </tr>\n",
       "    <tr>\n",
       "      <th>1</th>\n",
       "      <td>AGN</td>\n",
       "      <td>Allergan, Inc.</td>\n",
       "      <td>7.58</td>\n",
       "      <td>0.41</td>\n",
       "      <td>82.5</td>\n",
       "      <td>12.9</td>\n",
       "      <td>5.5</td>\n",
       "      <td>0.9</td>\n",
       "      <td>0.60</td>\n",
       "      <td>9.16</td>\n",
       "      <td>5.5</td>\n",
       "      <td>Moderate Buy</td>\n",
       "      <td>CANADA</td>\n",
       "      <td>NYSE</td>\n",
       "      <td>0</td>\n",
       "    </tr>\n",
       "    <tr>\n",
       "      <th>2</th>\n",
       "      <td>AHM</td>\n",
       "      <td>Amersham plc</td>\n",
       "      <td>6.30</td>\n",
       "      <td>0.46</td>\n",
       "      <td>20.7</td>\n",
       "      <td>14.9</td>\n",
       "      <td>7.8</td>\n",
       "      <td>0.9</td>\n",
       "      <td>0.27</td>\n",
       "      <td>7.05</td>\n",
       "      <td>11.2</td>\n",
       "      <td>Strong Buy</td>\n",
       "      <td>UK</td>\n",
       "      <td>NYSE</td>\n",
       "      <td>0</td>\n",
       "    </tr>\n",
       "    <tr>\n",
       "      <th>3</th>\n",
       "      <td>AZN</td>\n",
       "      <td>AstraZeneca PLC</td>\n",
       "      <td>67.63</td>\n",
       "      <td>0.52</td>\n",
       "      <td>21.5</td>\n",
       "      <td>27.4</td>\n",
       "      <td>15.4</td>\n",
       "      <td>0.9</td>\n",
       "      <td>0.00</td>\n",
       "      <td>15.00</td>\n",
       "      <td>18.0</td>\n",
       "      <td>Moderate Sell</td>\n",
       "      <td>UK</td>\n",
       "      <td>NYSE</td>\n",
       "      <td>1</td>\n",
       "    </tr>\n",
       "    <tr>\n",
       "      <th>4</th>\n",
       "      <td>AVE</td>\n",
       "      <td>Aventis</td>\n",
       "      <td>47.16</td>\n",
       "      <td>0.32</td>\n",
       "      <td>20.1</td>\n",
       "      <td>21.8</td>\n",
       "      <td>7.5</td>\n",
       "      <td>0.6</td>\n",
       "      <td>0.34</td>\n",
       "      <td>26.81</td>\n",
       "      <td>12.9</td>\n",
       "      <td>Moderate Buy</td>\n",
       "      <td>FRANCE</td>\n",
       "      <td>NYSE</td>\n",
       "      <td>0</td>\n",
       "    </tr>\n",
       "    <tr>\n",
       "      <th>5</th>\n",
       "      <td>BAY</td>\n",
       "      <td>Bayer AG</td>\n",
       "      <td>16.90</td>\n",
       "      <td>1.11</td>\n",
       "      <td>27.9</td>\n",
       "      <td>3.9</td>\n",
       "      <td>1.4</td>\n",
       "      <td>0.6</td>\n",
       "      <td>0.00</td>\n",
       "      <td>-3.17</td>\n",
       "      <td>2.6</td>\n",
       "      <td>Hold</td>\n",
       "      <td>GERMANY</td>\n",
       "      <td>NYSE</td>\n",
       "      <td>0</td>\n",
       "    </tr>\n",
       "    <tr>\n",
       "      <th>6</th>\n",
       "      <td>BMY</td>\n",
       "      <td>Bristol-Myers Squibb Company</td>\n",
       "      <td>51.33</td>\n",
       "      <td>0.50</td>\n",
       "      <td>13.9</td>\n",
       "      <td>34.8</td>\n",
       "      <td>15.1</td>\n",
       "      <td>0.9</td>\n",
       "      <td>0.57</td>\n",
       "      <td>2.70</td>\n",
       "      <td>20.6</td>\n",
       "      <td>Moderate Sell</td>\n",
       "      <td>US</td>\n",
       "      <td>NYSE</td>\n",
       "      <td>1</td>\n",
       "    </tr>\n",
       "    <tr>\n",
       "      <th>7</th>\n",
       "      <td>CHTT</td>\n",
       "      <td>Chattem, Inc</td>\n",
       "      <td>0.41</td>\n",
       "      <td>0.85</td>\n",
       "      <td>26.0</td>\n",
       "      <td>24.1</td>\n",
       "      <td>4.3</td>\n",
       "      <td>0.6</td>\n",
       "      <td>3.51</td>\n",
       "      <td>6.38</td>\n",
       "      <td>7.5</td>\n",
       "      <td>Moderate Buy</td>\n",
       "      <td>US</td>\n",
       "      <td>NASDAQ</td>\n",
       "      <td>0</td>\n",
       "    </tr>\n",
       "    <tr>\n",
       "      <th>8</th>\n",
       "      <td>ELN</td>\n",
       "      <td>Elan Corporation, plc</td>\n",
       "      <td>0.78</td>\n",
       "      <td>1.08</td>\n",
       "      <td>3.6</td>\n",
       "      <td>15.1</td>\n",
       "      <td>5.1</td>\n",
       "      <td>0.3</td>\n",
       "      <td>1.07</td>\n",
       "      <td>34.21</td>\n",
       "      <td>13.3</td>\n",
       "      <td>Moderate Sell</td>\n",
       "      <td>IRELAND</td>\n",
       "      <td>NYSE</td>\n",
       "      <td>0</td>\n",
       "    </tr>\n",
       "    <tr>\n",
       "      <th>9</th>\n",
       "      <td>LLY</td>\n",
       "      <td>Eli Lilly and Company</td>\n",
       "      <td>73.84</td>\n",
       "      <td>0.18</td>\n",
       "      <td>27.9</td>\n",
       "      <td>31.0</td>\n",
       "      <td>13.5</td>\n",
       "      <td>0.6</td>\n",
       "      <td>0.53</td>\n",
       "      <td>6.21</td>\n",
       "      <td>23.4</td>\n",
       "      <td>Hold</td>\n",
       "      <td>US</td>\n",
       "      <td>NYSE</td>\n",
       "      <td>1</td>\n",
       "    </tr>\n",
       "    <tr>\n",
       "      <th>10</th>\n",
       "      <td>GSK</td>\n",
       "      <td>GlaxoSmithKline plc</td>\n",
       "      <td>122.11</td>\n",
       "      <td>0.35</td>\n",
       "      <td>18.0</td>\n",
       "      <td>62.9</td>\n",
       "      <td>20.3</td>\n",
       "      <td>1.0</td>\n",
       "      <td>0.34</td>\n",
       "      <td>21.87</td>\n",
       "      <td>21.1</td>\n",
       "      <td>Hold</td>\n",
       "      <td>UK</td>\n",
       "      <td>NYSE</td>\n",
       "      <td>1</td>\n",
       "    </tr>\n",
       "    <tr>\n",
       "      <th>11</th>\n",
       "      <td>IVX</td>\n",
       "      <td>IVAX Corporation</td>\n",
       "      <td>2.60</td>\n",
       "      <td>0.65</td>\n",
       "      <td>19.9</td>\n",
       "      <td>21.4</td>\n",
       "      <td>6.8</td>\n",
       "      <td>0.6</td>\n",
       "      <td>1.45</td>\n",
       "      <td>13.99</td>\n",
       "      <td>11.0</td>\n",
       "      <td>Hold</td>\n",
       "      <td>US</td>\n",
       "      <td>AMEX</td>\n",
       "      <td>0</td>\n",
       "    </tr>\n",
       "    <tr>\n",
       "      <th>12</th>\n",
       "      <td>JNJ</td>\n",
       "      <td>Johnson &amp; Johnson</td>\n",
       "      <td>173.93</td>\n",
       "      <td>0.46</td>\n",
       "      <td>28.4</td>\n",
       "      <td>28.6</td>\n",
       "      <td>16.3</td>\n",
       "      <td>0.9</td>\n",
       "      <td>0.10</td>\n",
       "      <td>9.37</td>\n",
       "      <td>17.9</td>\n",
       "      <td>Moderate Buy</td>\n",
       "      <td>US</td>\n",
       "      <td>NYSE</td>\n",
       "      <td>1</td>\n",
       "    </tr>\n",
       "    <tr>\n",
       "      <th>13</th>\n",
       "      <td>MRX</td>\n",
       "      <td>Medicis Pharmaceutical Corporation</td>\n",
       "      <td>1.20</td>\n",
       "      <td>0.75</td>\n",
       "      <td>28.6</td>\n",
       "      <td>11.2</td>\n",
       "      <td>5.4</td>\n",
       "      <td>0.3</td>\n",
       "      <td>0.93</td>\n",
       "      <td>30.37</td>\n",
       "      <td>21.3</td>\n",
       "      <td>Moderate Buy</td>\n",
       "      <td>US</td>\n",
       "      <td>NYSE</td>\n",
       "      <td>0</td>\n",
       "    </tr>\n",
       "    <tr>\n",
       "      <th>14</th>\n",
       "      <td>MRK</td>\n",
       "      <td>Merck &amp; Co., Inc.</td>\n",
       "      <td>132.56</td>\n",
       "      <td>0.46</td>\n",
       "      <td>18.9</td>\n",
       "      <td>40.6</td>\n",
       "      <td>15.0</td>\n",
       "      <td>1.1</td>\n",
       "      <td>0.28</td>\n",
       "      <td>17.35</td>\n",
       "      <td>14.1</td>\n",
       "      <td>Hold</td>\n",
       "      <td>US</td>\n",
       "      <td>NYSE</td>\n",
       "      <td>1</td>\n",
       "    </tr>\n",
       "    <tr>\n",
       "      <th>15</th>\n",
       "      <td>NVS</td>\n",
       "      <td>Novartis AG</td>\n",
       "      <td>96.65</td>\n",
       "      <td>0.19</td>\n",
       "      <td>21.6</td>\n",
       "      <td>17.9</td>\n",
       "      <td>11.2</td>\n",
       "      <td>0.5</td>\n",
       "      <td>0.06</td>\n",
       "      <td>-2.69</td>\n",
       "      <td>22.4</td>\n",
       "      <td>Hold</td>\n",
       "      <td>SWITZERLAND</td>\n",
       "      <td>NYSE</td>\n",
       "      <td>1</td>\n",
       "    </tr>\n",
       "    <tr>\n",
       "      <th>16</th>\n",
       "      <td>PFE</td>\n",
       "      <td>Pfizer Inc</td>\n",
       "      <td>199.47</td>\n",
       "      <td>0.65</td>\n",
       "      <td>23.6</td>\n",
       "      <td>45.6</td>\n",
       "      <td>19.2</td>\n",
       "      <td>0.8</td>\n",
       "      <td>0.16</td>\n",
       "      <td>25.54</td>\n",
       "      <td>25.2</td>\n",
       "      <td>Moderate Buy</td>\n",
       "      <td>US</td>\n",
       "      <td>NYSE</td>\n",
       "      <td>1</td>\n",
       "    </tr>\n",
       "    <tr>\n",
       "      <th>17</th>\n",
       "      <td>PHA</td>\n",
       "      <td>Pharmacia Corporation</td>\n",
       "      <td>56.24</td>\n",
       "      <td>0.40</td>\n",
       "      <td>56.5</td>\n",
       "      <td>13.5</td>\n",
       "      <td>5.7</td>\n",
       "      <td>0.6</td>\n",
       "      <td>0.35</td>\n",
       "      <td>15.00</td>\n",
       "      <td>7.3</td>\n",
       "      <td>Hold</td>\n",
       "      <td>US</td>\n",
       "      <td>NYSE</td>\n",
       "      <td>0</td>\n",
       "    </tr>\n",
       "    <tr>\n",
       "      <th>18</th>\n",
       "      <td>SGP</td>\n",
       "      <td>Schering-Plough Corporation</td>\n",
       "      <td>34.10</td>\n",
       "      <td>0.51</td>\n",
       "      <td>18.9</td>\n",
       "      <td>22.6</td>\n",
       "      <td>13.3</td>\n",
       "      <td>0.8</td>\n",
       "      <td>0.00</td>\n",
       "      <td>8.56</td>\n",
       "      <td>17.6</td>\n",
       "      <td>Hold</td>\n",
       "      <td>US</td>\n",
       "      <td>NYSE</td>\n",
       "      <td>1</td>\n",
       "    </tr>\n",
       "    <tr>\n",
       "      <th>19</th>\n",
       "      <td>WPI</td>\n",
       "      <td>Watson Pharmaceuticals, Inc.</td>\n",
       "      <td>3.26</td>\n",
       "      <td>0.24</td>\n",
       "      <td>18.4</td>\n",
       "      <td>10.2</td>\n",
       "      <td>6.8</td>\n",
       "      <td>0.5</td>\n",
       "      <td>0.20</td>\n",
       "      <td>29.18</td>\n",
       "      <td>15.1</td>\n",
       "      <td>Moderate Sell</td>\n",
       "      <td>US</td>\n",
       "      <td>NYSE</td>\n",
       "      <td>0</td>\n",
       "    </tr>\n",
       "    <tr>\n",
       "      <th>20</th>\n",
       "      <td>WYE</td>\n",
       "      <td>Wyeth</td>\n",
       "      <td>48.19</td>\n",
       "      <td>0.63</td>\n",
       "      <td>13.1</td>\n",
       "      <td>54.9</td>\n",
       "      <td>13.4</td>\n",
       "      <td>0.6</td>\n",
       "      <td>1.12</td>\n",
       "      <td>0.36</td>\n",
       "      <td>25.5</td>\n",
       "      <td>Hold</td>\n",
       "      <td>US</td>\n",
       "      <td>NYSE</td>\n",
       "      <td>1</td>\n",
       "    </tr>\n",
       "  </tbody>\n",
       "</table>\n",
       "</div>"
      ],
      "text/plain": [
       "   Symbol                                Name  Market_Cap  Beta  PE_Ratio  \\\n",
       "0     ABT                 Abbott Laboratories       68.44  0.32      24.7   \n",
       "1     AGN                      Allergan, Inc.        7.58  0.41      82.5   \n",
       "2     AHM                        Amersham plc        6.30  0.46      20.7   \n",
       "3     AZN                     AstraZeneca PLC       67.63  0.52      21.5   \n",
       "4     AVE                             Aventis       47.16  0.32      20.1   \n",
       "5     BAY                            Bayer AG       16.90  1.11      27.9   \n",
       "6     BMY        Bristol-Myers Squibb Company       51.33  0.50      13.9   \n",
       "7    CHTT                        Chattem, Inc        0.41  0.85      26.0   \n",
       "8     ELN               Elan Corporation, plc        0.78  1.08       3.6   \n",
       "9     LLY               Eli Lilly and Company       73.84  0.18      27.9   \n",
       "10    GSK                 GlaxoSmithKline plc      122.11  0.35      18.0   \n",
       "11    IVX                    IVAX Corporation        2.60  0.65      19.9   \n",
       "12    JNJ                   Johnson & Johnson      173.93  0.46      28.4   \n",
       "13    MRX  Medicis Pharmaceutical Corporation        1.20  0.75      28.6   \n",
       "14    MRK                   Merck & Co., Inc.      132.56  0.46      18.9   \n",
       "15    NVS                         Novartis AG       96.65  0.19      21.6   \n",
       "16    PFE                          Pfizer Inc      199.47  0.65      23.6   \n",
       "17    PHA               Pharmacia Corporation       56.24  0.40      56.5   \n",
       "18    SGP         Schering-Plough Corporation       34.10  0.51      18.9   \n",
       "19    WPI        Watson Pharmaceuticals, Inc.        3.26  0.24      18.4   \n",
       "20    WYE                               Wyeth       48.19  0.63      13.1   \n",
       "\n",
       "     ROE   ROA  Asset_Turnover  Leverage  Rev_Growth  Net_Profit_Margin  \\\n",
       "0   26.4  11.8             0.7      0.42        7.54               16.1   \n",
       "1   12.9   5.5             0.9      0.60        9.16                5.5   \n",
       "2   14.9   7.8             0.9      0.27        7.05               11.2   \n",
       "3   27.4  15.4             0.9      0.00       15.00               18.0   \n",
       "4   21.8   7.5             0.6      0.34       26.81               12.9   \n",
       "5    3.9   1.4             0.6      0.00       -3.17                2.6   \n",
       "6   34.8  15.1             0.9      0.57        2.70               20.6   \n",
       "7   24.1   4.3             0.6      3.51        6.38                7.5   \n",
       "8   15.1   5.1             0.3      1.07       34.21               13.3   \n",
       "9   31.0  13.5             0.6      0.53        6.21               23.4   \n",
       "10  62.9  20.3             1.0      0.34       21.87               21.1   \n",
       "11  21.4   6.8             0.6      1.45       13.99               11.0   \n",
       "12  28.6  16.3             0.9      0.10        9.37               17.9   \n",
       "13  11.2   5.4             0.3      0.93       30.37               21.3   \n",
       "14  40.6  15.0             1.1      0.28       17.35               14.1   \n",
       "15  17.9  11.2             0.5      0.06       -2.69               22.4   \n",
       "16  45.6  19.2             0.8      0.16       25.54               25.2   \n",
       "17  13.5   5.7             0.6      0.35       15.00                7.3   \n",
       "18  22.6  13.3             0.8      0.00        8.56               17.6   \n",
       "19  10.2   6.8             0.5      0.20       29.18               15.1   \n",
       "20  54.9  13.4             0.6      1.12        0.36               25.5   \n",
       "\n",
       "   Median_Recommendation     Location Exchange  label  \n",
       "0           Moderate Buy           US     NYSE      1  \n",
       "1           Moderate Buy       CANADA     NYSE      0  \n",
       "2             Strong Buy           UK     NYSE      0  \n",
       "3          Moderate Sell           UK     NYSE      1  \n",
       "4           Moderate Buy       FRANCE     NYSE      0  \n",
       "5                   Hold      GERMANY     NYSE      0  \n",
       "6          Moderate Sell           US     NYSE      1  \n",
       "7           Moderate Buy           US   NASDAQ      0  \n",
       "8          Moderate Sell      IRELAND     NYSE      0  \n",
       "9                   Hold           US     NYSE      1  \n",
       "10                  Hold           UK     NYSE      1  \n",
       "11                  Hold           US     AMEX      0  \n",
       "12          Moderate Buy           US     NYSE      1  \n",
       "13          Moderate Buy           US     NYSE      0  \n",
       "14                  Hold           US     NYSE      1  \n",
       "15                  Hold  SWITZERLAND     NYSE      1  \n",
       "16          Moderate Buy           US     NYSE      1  \n",
       "17                  Hold           US     NYSE      0  \n",
       "18                  Hold           US     NYSE      1  \n",
       "19         Moderate Sell           US     NYSE      0  \n",
       "20                  Hold           US     NYSE      1  "
      ]
     },
     "execution_count": 31,
     "metadata": {},
     "output_type": "execute_result"
    }
   ],
   "source": [
    "pharmacy['label'] = clusters\n",
    "pharmacy"
   ]
  },
  {
   "cell_type": "markdown",
   "metadata": {},
   "source": [
    "# Step 3: Interpret and visualize the clusters<a class=\"anchor\" id=\"step3\"></a>\n",
    "\n",
    "[go_back_up](#steps)\n",
    "#### Which variable has the most distinctive power to separate the clusters in the data?\n",
    "\n",
    "To answer the questions, we need to create the parallel coordinates. To do this,\n",
    "1. First create a data frame to save centroids in each cluster in terms of the variables used to perform the k-means cluster analysis.\n",
    "\n"
   ]
  },
  {
   "cell_type": "code",
   "execution_count": 33,
   "metadata": {},
   "outputs": [
    {
     "data": {
      "text/html": [
       "<div>\n",
       "<style scoped>\n",
       "    .dataframe tbody tr th:only-of-type {\n",
       "        vertical-align: middle;\n",
       "    }\n",
       "\n",
       "    .dataframe tbody tr th {\n",
       "        vertical-align: top;\n",
       "    }\n",
       "\n",
       "    .dataframe thead th {\n",
       "        text-align: right;\n",
       "    }\n",
       "</style>\n",
       "<table border=\"1\" class=\"dataframe\">\n",
       "  <thead>\n",
       "    <tr style=\"text-align: right;\">\n",
       "      <th></th>\n",
       "      <th>Market_Cap</th>\n",
       "      <th>Beta</th>\n",
       "      <th>PE_Ratio</th>\n",
       "      <th>ROE</th>\n",
       "      <th>ROA</th>\n",
       "      <th>Asset_Turnover</th>\n",
       "      <th>Leverage</th>\n",
       "      <th>Rev_Growth</th>\n",
       "      <th>Net_Profit_Margin</th>\n",
       "    </tr>\n",
       "  </thead>\n",
       "  <tbody>\n",
       "    <tr>\n",
       "      <th>0</th>\n",
       "      <td>-0.759013</td>\n",
       "      <td>0.404248</td>\n",
       "      <td>0.311493</td>\n",
       "      <td>-0.740094</td>\n",
       "      <td>-0.940524</td>\n",
       "      <td>-0.519922</td>\n",
       "      <td>0.375466</td>\n",
       "      <td>0.327122</td>\n",
       "      <td>-0.769099</td>\n",
       "    </tr>\n",
       "    <tr>\n",
       "      <th>1</th>\n",
       "      <td>0.690012</td>\n",
       "      <td>-0.367499</td>\n",
       "      <td>-0.283176</td>\n",
       "      <td>0.672813</td>\n",
       "      <td>0.855022</td>\n",
       "      <td>0.472657</td>\n",
       "      <td>-0.341333</td>\n",
       "      <td>-0.297383</td>\n",
       "      <td>0.699181</td>\n",
       "    </tr>\n",
       "  </tbody>\n",
       "</table>\n",
       "</div>"
      ],
      "text/plain": [
       "   Market_Cap      Beta  PE_Ratio       ROE       ROA  Asset_Turnover  \\\n",
       "0   -0.759013  0.404248  0.311493 -0.740094 -0.940524       -0.519922   \n",
       "1    0.690012 -0.367499 -0.283176  0.672813  0.855022        0.472657   \n",
       "\n",
       "   Leverage  Rev_Growth  Net_Profit_Margin  \n",
       "0  0.375466    0.327122          -0.769099  \n",
       "1 -0.341333   -0.297383           0.699181  "
      ]
     },
     "execution_count": 33,
     "metadata": {},
     "output_type": "execute_result"
    }
   ],
   "source": [
    "# create a dataframe to save the centroids for the clusters in terms of Annual Income and Spending Score\n",
    "columns_list = ['Market_Cap','Beta','PE_Ratio','ROE','ROA','Asset_Turnover','Leverage','Rev_Growth','Net_Profit_Margin']\n",
    "centroids = pd.DataFrame(km.cluster_centers_, columns = columns_list)\n",
    "centroids"
   ]
  },
  {
   "cell_type": "markdown",
   "metadata": {},
   "source": [
    "2. Then, add a new column called \"cluster\" to indicate the index of the clusters for each set of the centroids.\n"
   ]
  },
  {
   "cell_type": "code",
   "execution_count": 35,
   "metadata": {},
   "outputs": [
    {
     "data": {
      "text/html": [
       "<div>\n",
       "<style scoped>\n",
       "    .dataframe tbody tr th:only-of-type {\n",
       "        vertical-align: middle;\n",
       "    }\n",
       "\n",
       "    .dataframe tbody tr th {\n",
       "        vertical-align: top;\n",
       "    }\n",
       "\n",
       "    .dataframe thead th {\n",
       "        text-align: right;\n",
       "    }\n",
       "</style>\n",
       "<table border=\"1\" class=\"dataframe\">\n",
       "  <thead>\n",
       "    <tr style=\"text-align: right;\">\n",
       "      <th></th>\n",
       "      <th>Market_Cap</th>\n",
       "      <th>Beta</th>\n",
       "      <th>PE_Ratio</th>\n",
       "      <th>ROE</th>\n",
       "      <th>ROA</th>\n",
       "      <th>Asset_Turnover</th>\n",
       "      <th>Leverage</th>\n",
       "      <th>Rev_Growth</th>\n",
       "      <th>Net_Profit_Margin</th>\n",
       "      <th>cluster</th>\n",
       "    </tr>\n",
       "  </thead>\n",
       "  <tbody>\n",
       "    <tr>\n",
       "      <th>0</th>\n",
       "      <td>-0.759013</td>\n",
       "      <td>0.404248</td>\n",
       "      <td>0.311493</td>\n",
       "      <td>-0.740094</td>\n",
       "      <td>-0.940524</td>\n",
       "      <td>-0.519922</td>\n",
       "      <td>0.375466</td>\n",
       "      <td>0.327122</td>\n",
       "      <td>-0.769099</td>\n",
       "      <td>Cluster 0</td>\n",
       "    </tr>\n",
       "    <tr>\n",
       "      <th>1</th>\n",
       "      <td>0.690012</td>\n",
       "      <td>-0.367499</td>\n",
       "      <td>-0.283176</td>\n",
       "      <td>0.672813</td>\n",
       "      <td>0.855022</td>\n",
       "      <td>0.472657</td>\n",
       "      <td>-0.341333</td>\n",
       "      <td>-0.297383</td>\n",
       "      <td>0.699181</td>\n",
       "      <td>Cluster 1</td>\n",
       "    </tr>\n",
       "  </tbody>\n",
       "</table>\n",
       "</div>"
      ],
      "text/plain": [
       "   Market_Cap      Beta  PE_Ratio       ROE       ROA  Asset_Turnover  \\\n",
       "0   -0.759013  0.404248  0.311493 -0.740094 -0.940524       -0.519922   \n",
       "1    0.690012 -0.367499 -0.283176  0.672813  0.855022        0.472657   \n",
       "\n",
       "   Leverage  Rev_Growth  Net_Profit_Margin    cluster  \n",
       "0  0.375466    0.327122          -0.769099  Cluster 0  \n",
       "1 -0.341333   -0.297383           0.699181  Cluster 1  "
      ]
     },
     "execution_count": 35,
     "metadata": {},
     "output_type": "execute_result"
    }
   ],
   "source": [
    "# add a new column called \"cluster\" to indicate the index of the clusters for each set of the centroids\n",
    "centroids['cluster'] = ['Cluster {}'.format(i) for i in centroids.index]\n",
    "centroids"
   ]
  },
  {
   "cell_type": "markdown",
   "metadata": {},
   "source": [
    "3. Then, create parallel coordinates to visualize the centroids for each cluster\n",
    "\n"
   ]
  },
  {
   "cell_type": "code",
   "execution_count": 37,
   "metadata": {},
   "outputs": [
    {
     "data": {
      "image/png": "[encoded data removed]",
      "text/plain": [
       "<Figure size 600x300 with 1 Axes>"
      ]
     },
     "metadata": {},
     "output_type": "display_data"
    }
   ],
   "source": [
    "# create parallel coordinates to visualize the centroids for each cluster\n",
    "#import library\n",
    "import matplotlib.pyplot as plt\n",
    "from pandas.plotting import parallel_coordinates\n",
    "\n",
    "#parallel coordinates visualization\n",
    "plt.figure(figsize=(6,3))\n",
    "parallel_coordinates(centroids, class_column='cluster', colormap='Dark2', linewidth=5)\n",
    "plt.legend(loc='center left', bbox_to_anchor=(1, 0.5))\n",
    "# Rotate x-axis labels\n",
    "plt.xticks(rotation=45)  # Adjust the angle as needed\n",
    "\n",
    "# Show plot\n",
    "plt.show()"
   ]
  },
  {
   "cell_type": "code",
   "execution_count": 39,
   "metadata": {
    "colab": {
     "base_uri": "https://localhost:8080/",
     "height": 401
    },
    "id": "m0AmacMt0234",
    "outputId": "97ff9598-d2b8-4e60-c744-2679a0e6787b"
   },
   "outputs": [
    {
     "data": {
      "text/plain": [
       "<seaborn.axisgrid.FacetGrid at 0x27d31384150>"
      ]
     },
     "execution_count": 39,
     "metadata": {},
     "output_type": "execute_result"
    },
    {
     "data": {
      "image/png": "[encoded data removed]",
      "text/plain": [
       "<Figure size 558.875x500 with 1 Axes>"
      ]
     },
     "metadata": {},
     "output_type": "display_data"
    }
   ],
   "source": [
    "#visualize the clusters using two variables Annual Income and Spending Score\n",
    "\n",
    "import seaborn as sns\n",
    "sns.lmplot(data=pharmacy, y='Market_Cap', x='Net_Profit_Margin', hue='label', fit_reg=False,legend=True)"
   ]
  },
  {
   "cell_type": "markdown",
   "metadata": {},
   "source": [
    "#### Q10. Based on your analysis, what could be concluded?\n"
   ]
  },
  {
   "cell_type": "code",
   "execution_count": null,
   "metadata": {},
   "outputs": [],
   "source": []
  }
 ],
 "metadata": {
  "colab": {
   "name": "Week 2 Exercise.ipynb",
   "provenance": []
  },
  "kernelspec": {
   "display_name": "Python 3 (ipykernel)",
   "language": "python",
   "name": "python3"
  },
  "language_info": {
   "codemirror_mode": {
    "name": "ipython",
    "version": 3
   },
   "file_extension": ".py",
   "mimetype": "text/x-python",
   "name": "python",
   "nbconvert_exporter": "python",
   "pygments_lexer": "ipython3",
   "version": "3.11.7"
  }
 },
 "nbformat": 4,
 "nbformat_minor": 4
}
